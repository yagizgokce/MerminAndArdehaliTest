{
 "cells": [
  {
   "cell_type": "code",
   "execution_count": 1,
   "id": "07f9b901",
   "metadata": {
    "collapsed": false,
    "jupyter": {
     "outputs_hidden": false
    },
    "pycharm": {
     "name": "#%%\n"
    }
   },
   "outputs": [
    {
     "name": "stderr",
     "output_type": "stream",
     "text": [
      "<frozen importlib._bootstrap>:219: RuntimeWarning: scipy._lib.messagestream.MessageStream size changed, may indicate binary incompatibility. Expected 56 from C header, got 64 from PyObject\n"
     ]
    },
    {
     "data": {
      "text/plain": [
       "{'qiskit-terra': '0.20.0', 'qiskit-aer': '0.10.3', 'qiskit-ignis': '0.7.0', 'qiskit-ibmq-provider': '0.18.3', 'qiskit-aqua': None, 'qiskit': '0.35.0', 'qiskit-nature': '0.3.2', 'qiskit-finance': '0.3.1', 'qiskit-optimization': '0.3.2', 'qiskit-machine-learning': '0.3.1'}"
      ]
     },
     "execution_count": 1,
     "metadata": {},
     "output_type": "execute_result"
    }
   ],
   "source": [
    "import math\n",
    "\n",
    "import qiskit\n",
    "from qiskit import QuantumCircuit, ClassicalRegister, QuantumRegister, transpile, Aer, IBMQ,assemble\n",
    "from qiskit.tools.visualization import plot_histogram\n",
    "from qiskit.tools.monitor import job_monitor, backend_monitor, backend_overview\n",
    "from qiskit.providers.aer import noise\n",
    "\n",
    "#import python stuff\n",
    "import matplotlib.pyplot as plt\n",
    "import numpy as np\n",
    "import time\n",
    "# Set devices, if using a real device\n",
    "IBMQ.load_account()\n",
    "provider = IBMQ.get_provider('ibm-q')\n",
    "quito = provider.get_backend('ibmq_quito')\n",
    "manila = provider.get_backend('ibmq_manila')\n",
    "qiskit.__qiskit_version__"
   ]
  },
  {
   "cell_type": "markdown",
   "id": "2c8c60ef",
   "metadata": {
    "pycharm": {
     "name": "#%% md\n"
    }
   },
   "source": [
    "# For Three Qubits\n",
    "We create state that\n",
    "$|\\psi\\rangle = \\frac{1}{\\sqrt{2}} (|000\\rangle +i|111\\rangle)\n",
    "$\n"
   ]
  },
  {
   "cell_type": "code",
   "execution_count": 2,
   "id": "6b9f2099",
   "metadata": {
    "collapsed": false,
    "jupyter": {
     "outputs_hidden": false
    },
    "pycharm": {
     "name": "#%%\n"
    }
   },
   "outputs": [
    {
     "data": {
      "image/png": "[encoded data removed]",
      "text/plain": [
       "<Figure size 507.997x264.88 with 1 Axes>"
      ]
     },
     "execution_count": 2,
     "metadata": {},
     "output_type": "execute_result"
    }
   ],
   "source": [
    "#create state 1/sqrt(2)*(|000>+i|111>)\n",
    "q1 = QuantumRegister(3,'q')\n",
    "c1 = ClassicalRegister(3,'c')\n",
    "circuit1 = QuantumCircuit(q1, c1)\n",
    "circuit1.h(q1[0])\n",
    "circuit1.h(q1[1])\n",
    "circuit1.cx(q1[1],q1[2])\n",
    "circuit1.h(q1[1])\n",
    "circuit1.cx(q1[0],q1[2])\n",
    "circuit1.h(q1[0])\n",
    "circuit1.h(q1[2])\n",
    "circuit1.s(q1[0])\n",
    "circuit1.barrier()\n",
    "circuit1.draw(output='mpl')\n"
   ]
  },
  {
   "cell_type": "markdown",
   "id": "61f86cbd",
   "metadata": {
    "pycharm": {
     "name": "#%% md\n"
    }
   },
   "source": [
    "# For Four Qubits\n",
    "We create state that\n",
    "$|\\psi\\rangle = \\frac{1}{\\sqrt{2}} (|0000\\rangle +i|1111\\rangle)\n",
    "$"
   ]
  },
  {
   "cell_type": "code",
   "execution_count": 3,
   "id": "63406da5",
   "metadata": {
    "collapsed": false,
    "jupyter": {
     "outputs_hidden": false
    },
    "pycharm": {
     "name": "#%%\n"
    }
   },
   "outputs": [
    {
     "data": {
      "image/png": "[encoded data removed]",
      "text/plain": [
       "<Figure size 507.997x325.08 with 1 Axes>"
      ]
     },
     "execution_count": 3,
     "metadata": {},
     "output_type": "execute_result"
    }
   ],
   "source": [
    "q2 = QuantumRegister(4, 'q')\n",
    "c2 = ClassicalRegister(4, 'c')\n",
    "circuit2 = QuantumCircuit(q2, c2)\n",
    "circuit2.h(q2[0])\n",
    "circuit2.h(q2[2])\n",
    "circuit2.h(q2[3])\n",
    "circuit2.cx(q2[0], q2[1])\n",
    "circuit2.h(q2[0])\n",
    "circuit2.cx(q2[2], q2[1])\n",
    "circuit2.h(q2[2])\n",
    "circuit2.cx(q2[3], q2[1])\n",
    "circuit2.h(q2[1])\n",
    "circuit2.h(q2[3])\n",
    "circuit2.s(q2[0])\n",
    "circuit2.barrier()\n",
    "circuit2.draw(output='mpl')"
   ]
  },
  {
   "cell_type": "markdown",
   "id": "85e4c948",
   "metadata": {
    "pycharm": {
     "name": "#%% md\n"
    }
   },
   "source": [
    "# For Five Qubits\n",
    "We create state that\n",
    "$|\\psi\\rangle = \\frac{1}{\\sqrt{2}} (|00000\\rangle +i|11111\\rangle)\n",
    "$"
   ]
  },
  {
   "cell_type": "code",
   "execution_count": 4,
   "id": "78c639de",
   "metadata": {
    "collapsed": false,
    "jupyter": {
     "outputs_hidden": false
    },
    "pycharm": {
     "name": "#%%\n"
    }
   },
   "outputs": [
    {
     "data": {
      "image/png": "[encoded data removed]",
      "text/plain": [
       "<Figure size 628.397x385.28 with 1 Axes>"
      ]
     },
     "execution_count": 4,
     "metadata": {},
     "output_type": "execute_result"
    }
   ],
   "source": [
    "q3 = QuantumRegister(5, 'q')\n",
    "c3 = ClassicalRegister(5, 'c')\n",
    "circuit3 = QuantumCircuit(q3, c3)\n",
    "circuit3.h(q3[0])\n",
    "circuit3.h(q3[1])\n",
    "circuit3.h(q3[3])\n",
    "circuit3.h(q3[4])\n",
    "circuit3.cx(q3[1], q3[2])\n",
    "circuit3.h(q3[1])\n",
    "circuit3.cx(q3[3], q3[2])\n",
    "circuit3.h(q3[3])\n",
    "circuit3.cx(q3[4], q3[2])\n",
    "circuit3.cx(q3[0], q3[2])\n",
    "circuit3.h(q3[4])\n",
    "circuit3.h(q3[0])\n",
    "circuit3.h(q3[2])\n",
    "circuit3.s(q3[0])\n",
    "circuit3.barrier()\n",
    "circuit3.draw(output='mpl')"
   ]
  },
  {
   "cell_type": "code",
   "execution_count": 5,
   "id": "5e4920d7",
   "metadata": {
    "collapsed": false,
    "jupyter": {
     "outputs_hidden": false
    },
    "pycharm": {
     "name": "#%%\n"
    }
   },
   "outputs": [],
   "source": [
    "def measure_state(name,q,c,circuit):\n",
    "    measurename = QuantumCircuit(q,c)\n",
    "    state = 0\n",
    "    for i in name:\n",
    "        if i == 'X':\n",
    "            measurename.h(q[state])\n",
    "        elif i == 'Y':\n",
    "            measurename.sdg(q[state])\n",
    "            measurename.h(q[state])\n",
    "        elif i == 'A':\n",
    "            measurename.tdg(q[state])\n",
    "            measurename.h(q[state])\n",
    "        elif i == 'B':\n",
    "            measurename.t(q[state])\n",
    "            measurename.h(q[state])\n",
    "\n",
    "        state += 1\n",
    "    for i in range(state):\n",
    "        measurename.measure(q[i],c[i])\n",
    "\n",
    "    circuitname = circuit+measurename\n",
    "    return circuitname\n"
   ]
  },
  {
   "cell_type": "code",
   "execution_count": 6,
   "id": "25bba363",
   "metadata": {
    "collapsed": false,
    "jupyter": {
     "outputs_hidden": false
    },
    "pycharm": {
     "name": "#%%\n"
    }
   },
   "outputs": [],
   "source": [
    "from itertools import product\n",
    "\n",
    "def operator(x, y,qubit):\n",
    "\n",
    "    oper = {'X':x,'Y':y}\n",
    "    arr = list(product(oper,repeat=qubit))\n",
    "    arr2 = list(product([oper['X'],oper['Y']],repeat=qubit))\n",
    "    result = {}\n",
    "    for i in range(len(arr)):\n",
    "        sum = ''\n",
    "        prod = 1\n",
    "        for j in range(len(arr[i])):\n",
    "            sum += arr[i][j]\n",
    "            prod *= arr2[i][j]\n",
    "        result[sum] = prod\n",
    "    return result\n",
    "\n",
    "def mermin_circuits(circuit,qubit):\n",
    "    q = circuit.qregs[0]\n",
    "    c = circuit.cregs[0]\n",
    "    a = operator(1, 1j,qubit)\n",
    "    b = operator(1, -1j,qubit)\n",
    "    cir = []\n",
    "    cir_name=[]\n",
    "    coef = []\n",
    "    for i in a:\n",
    "        if(a[i] != b[i]):\n",
    "            locals()['circuit%s' % i] = measure_state(i,q,c,circuit)\n",
    "            cir.append(locals()['circuit%s' % i])\n",
    "            cir_name.append('circuit'+i)\n",
    "            coef.append(a[i].imag )\n",
    "    return cir,cir_name,coef\n"
   ]
  },
  {
   "cell_type": "code",
   "execution_count": 7,
   "id": "be678dbf",
   "metadata": {
    "collapsed": false,
    "jupyter": {
     "outputs_hidden": false
    },
    "pycharm": {
     "name": "#%%\n"
    }
   },
   "outputs": [],
   "source": [
    "\n",
    "def ardehali_circuits(circuit,qubit):\n",
    "    q = circuit.qregs[0]\n",
    "    c = circuit.cregs[0]\n",
    "    im_th = {'A':1,'B':1}\n",
    "    re_th = {'A':1,'B':-1}\n",
    "    a = operator(1, 1j,qubit-1)\n",
    "    new_a={}\n",
    "    new_b={}\n",
    "    for i in a:\n",
    "        for j in re_th:\n",
    "            temp = i\n",
    "            new_a[temp+j] = re_th[j]*a[i]\n",
    "\n",
    "\n",
    "    for i in a:\n",
    "        for j in im_th:\n",
    "            temp = i\n",
    "            new_b[temp+j] = im_th[j]*a[i]\n",
    "\n",
    "    cir = []\n",
    "    cir_name=[]\n",
    "    coef = []\n",
    "    for i in new_a:\n",
    "        if(new_a[i].real != 0):\n",
    "\n",
    "            locals()['circuit%s' % i] = measure_state(i,q,c,circuit)\n",
    "            cir.append(locals()['circuit%s' % i])\n",
    "            cir_name.append('circuit'+i)\n",
    "            coef.append(int(new_a[i].real))\n",
    "    for i in new_b:\n",
    "        if(new_b[i].imag != 0):\n",
    "            locals()['circuit%s' % i] = measure_state(i,q,c,circuit)\n",
    "            cir.append(locals()['circuit%s' % i])\n",
    "            cir_name.append('circuit'+i)\n",
    "            coef.append(int(new_b[i].imag))\n",
    "    return cir,cir_name,coef\n"
   ]
  },
  {
   "cell_type": "code",
   "execution_count": 8,
   "id": "88061af4",
   "metadata": {
    "collapsed": false,
    "jupyter": {
     "outputs_hidden": false
    },
    "pycharm": {
     "name": "#%%\n"
    }
   },
   "outputs": [
    {
     "name": "stderr",
     "output_type": "stream",
     "text": [
      "/tmp/ipykernel_59/2043140286.py:21: DeprecationWarning: The QuantumCircuit.__add__() method is being deprecated.Use the compose() method which is more flexible w.r.t circuit register compatibility.\n",
      "  circuitname = circuit+measurename\n"
     ]
    }
   ],
   "source": [
    "############################3-QUBIT CIRCUİTS###############################\n",
    "states_three = ['000','001','010','011','100','101','110','111']\n",
    "mermin1,mermin1_name,mermin_coeff1 = mermin_circuits(circuit1,3)\n",
    "ardehali1,ardehali1_name,ardehali_coeff1 = ardehali_circuits(circuit1,3)\n",
    "\n",
    "############################4-QUBIT CIRCUİTS###############################\n",
    "states_four = ['0000','0001','0010','0011','0100','0101','0110','0111','1000','1001','1010','1011','1100','1101','1110','1111',]\n",
    "mermin2,mermin2_name,mermin_coeff2 = mermin_circuits(circuit2,4)\n",
    "ardehali2,ardehali2_name,ardehali_coeff2 = ardehali_circuits(circuit2,4)\n",
    "\n",
    "############################5-QUBIT CIRCUİTS###############################\n",
    "states_five = ['00000','00001','00010','00011','00100','00101','00110','00111','01000','01001','01010','01011','01100','01101','01110','01111','10000','10001','10010','10011','10100','10101','10110','10111','11000','11001','11010','11011','11100','11101','11110','11111']\n",
    "mermin3,mermin3_name,mermin_coeff3 = mermin_circuits(circuit3,5)\n",
    "ardehali3,ardehali3_name,ardehali_coeff3 = ardehali_circuits(circuit3,5)"
   ]
  },
  {
   "cell_type": "code",
   "execution_count": 9,
   "id": "32dce818",
   "metadata": {
    "collapsed": false,
    "jupyter": {
     "outputs_hidden": false
    },
    "pycharm": {
     "name": "#%%\n"
    }
   },
   "outputs": [
    {
     "name": "stdout",
     "output_type": "stream",
     "text": [
      "['circuitXXY', 'circuitXYX', 'circuitYXX', 'circuitYYY']\n"
     ]
    },
    {
     "data": {
      "image/png": "[encoded data removed]",
      "text/plain": [
       "<Figure size 808.997x264.88 with 1 Axes>"
      ]
     },
     "execution_count": 9,
     "metadata": {},
     "output_type": "execute_result"
    }
   ],
   "source": [
    "print(mermin1_name)\n",
    "mermin1[0].draw(output='mpl')"
   ]
  },
  {
   "cell_type": "code",
   "execution_count": 10,
   "id": "24186f5a",
   "metadata": {
    "collapsed": false,
    "jupyter": {
     "outputs_hidden": false
    },
    "pycharm": {
     "name": "#%%\n"
    }
   },
   "outputs": [
    {
     "name": "stdout",
     "output_type": "stream",
     "text": [
      "['circuitXXXY', 'circuitXXYX', 'circuitXYXX', 'circuitXYYY', 'circuitYXXX', 'circuitYXYY', 'circuitYYXY', 'circuitYYYX']\n",
      "[1.0, 1.0, 1.0, -1.0, 1.0, -1.0, -1.0, -1.0]\n"
     ]
    },
    {
     "data": {
      "image/png": "[encoded data removed]",
      "text/plain": [
       "<Figure size 869.197x325.08 with 1 Axes>"
      ]
     },
     "execution_count": 10,
     "metadata": {},
     "output_type": "execute_result"
    }
   ],
   "source": [
    "print(mermin2_name)\n",
    "print(mermin_coeff2)\n",
    "mermin2[0].draw(output='mpl')"
   ]
  },
  {
   "cell_type": "code",
   "execution_count": 11,
   "id": "c3412c58",
   "metadata": {
    "collapsed": false,
    "jupyter": {
     "outputs_hidden": false
    },
    "pycharm": {
     "name": "#%%\n"
    }
   },
   "outputs": [
    {
     "name": "stdout",
     "output_type": "stream",
     "text": [
      "['circuitXXXXY', 'circuitXXXYX', 'circuitXXYXX', 'circuitXXYYY', 'circuitXYXXX', 'circuitXYXYY', 'circuitXYYXY', 'circuitXYYYX', 'circuitYXXXX', 'circuitYXXYY', 'circuitYXYXY', 'circuitYXYYX', 'circuitYYXXY', 'circuitYYXYX', 'circuitYYYXX', 'circuitYYYYY']\n"
     ]
    },
    {
     "data": {
      "image/png": "[encoded data removed]",
      "text/plain": [
       "<Figure size 1049.8x385.28 with 1 Axes>"
      ]
     },
     "execution_count": 11,
     "metadata": {},
     "output_type": "execute_result"
    }
   ],
   "source": [
    "print(mermin3_name)\n",
    "mermin3[0].draw(output='mpl')"
   ]
  },
  {
   "cell_type": "code",
   "execution_count": 12,
   "id": "394b3caf",
   "metadata": {
    "collapsed": false,
    "jupyter": {
     "outputs_hidden": false
    },
    "pycharm": {
     "name": "#%%\n"
    }
   },
   "outputs": [
    {
     "name": "stdout",
     "output_type": "stream",
     "text": [
      "['circuitXXA', 'circuitXXB', 'circuitYYA', 'circuitYYB', 'circuitXYA', 'circuitXYB', 'circuitYXA', 'circuitYXB']\n",
      "[1, -1, -1, 1, 1, 1, 1, 1]\n"
     ]
    },
    {
     "data": {
      "image/png": "[encoded data removed]",
      "text/plain": [
       "<Figure size 808.997x264.88 with 1 Axes>"
      ]
     },
     "execution_count": 12,
     "metadata": {},
     "output_type": "execute_result"
    }
   ],
   "source": [
    "print(ardehali1_name)\n",
    "print(ardehali_coeff1)\n",
    "ardehali1[6].draw(output='mpl')"
   ]
  },
  {
   "cell_type": "code",
   "execution_count": 13,
   "id": "db40dedd",
   "metadata": {
    "collapsed": false,
    "jupyter": {
     "outputs_hidden": false
    },
    "pycharm": {
     "name": "#%%\n"
    }
   },
   "outputs": [
    {
     "name": "stdout",
     "output_type": "stream",
     "text": [
      "['circuitXXXA', 'circuitXXXB', 'circuitXYYA', 'circuitXYYB', 'circuitYXYA', 'circuitYXYB', 'circuitYYXA', 'circuitYYXB', 'circuitXXYA', 'circuitXXYB', 'circuitXYXA', 'circuitXYXB', 'circuitYXXA', 'circuitYXXB', 'circuitYYYA', 'circuitYYYB']\n"
     ]
    },
    {
     "data": {
      "image/png": "[encoded data removed]",
      "text/plain": [
       "<Figure size 869.197x325.08 with 1 Axes>"
      ]
     },
     "execution_count": 13,
     "metadata": {},
     "output_type": "execute_result"
    }
   ],
   "source": [
    "print(ardehali2_name)\n",
    "ardehali2[0].draw(output='mpl')"
   ]
  },
  {
   "cell_type": "code",
   "execution_count": 14,
   "id": "e3548c14",
   "metadata": {
    "collapsed": false,
    "jupyter": {
     "outputs_hidden": false
    },
    "pycharm": {
     "name": "#%%\n"
    }
   },
   "outputs": [
    {
     "name": "stdout",
     "output_type": "stream",
     "text": [
      "['circuitXXXXA', 'circuitXXXXB', 'circuitXXYYA', 'circuitXXYYB', 'circuitXYXYA', 'circuitXYXYB', 'circuitXYYXA', 'circuitXYYXB', 'circuitYXXYA', 'circuitYXXYB', 'circuitYXYXA', 'circuitYXYXB', 'circuitYYXXA', 'circuitYYXXB', 'circuitYYYYA', 'circuitYYYYB', 'circuitXXXYA', 'circuitXXXYB', 'circuitXXYXA', 'circuitXXYXB', 'circuitXYXXA', 'circuitXYXXB', 'circuitXYYYA', 'circuitXYYYB', 'circuitYXXXA', 'circuitYXXXB', 'circuitYXYYA', 'circuitYXYYB', 'circuitYYXYA', 'circuitYYXYB', 'circuitYYYXA', 'circuitYYYXB']\n"
     ]
    },
    {
     "data": {
      "image/png": "[encoded data removed]",
      "text/plain": [
       "<Figure size 1049.8x385.28 with 1 Axes>"
      ]
     },
     "execution_count": 14,
     "metadata": {},
     "output_type": "execute_result"
    }
   ],
   "source": [
    "print(ardehali3_name)\n",
    "ardehali3[0].draw(output='mpl')"
   ]
  },
  {
   "cell_type": "code",
   "execution_count": 15,
   "id": "d66aa17d-9f81-4ed2-b998-64b559fe9827",
   "metadata": {},
   "outputs": [],
   "source": [
    "def device_run(device,shots,circuits):\n",
    "    transpiled_circuits = transpile(circuits, device)\n",
    "    job_real = device.run(transpiled_circuits, shots=shots)\n",
    "    job_monitor(job_real)\n",
    "    result_real = job_real.result()\n",
    "\n",
    "    counts = []\n",
    "    for i in circuits:\n",
    "        counts.append(result_real.get_counts(i))\n",
    "    return counts\n"
   ]
  },
  {
   "cell_type": "code",
   "execution_count": 16,
   "id": "70ffee80",
   "metadata": {
    "collapsed": false,
    "jupyter": {
     "outputs_hidden": false
    },
    "pycharm": {
     "name": "#%%\n"
    }
   },
   "outputs": [],
   "source": [
    "def ideal_run(circuits,shots):\n",
    "    sim = Aer.get_backend('aer_simulator')\n",
    "    result_ideal = sim.run(circuits,shots=shots).result()\n",
    "    ideal_counts=[]\n",
    "    for i in circuits:\n",
    "        ideal_counts.append(result_ideal.get_counts(i))\n",
    "    return ideal_counts\n",
    "\n"
   ]
  },
  {
   "cell_type": "code",
   "execution_count": 17,
   "id": "c96d9b0e-dddd-46bd-9011-9c2ec4219f0d",
   "metadata": {
    "pycharm": {
     "name": "#%%\n"
    }
   },
   "outputs": [],
   "source": [
    "def expectation(counts,shots,states,coeff):\n",
    "    Exp=[]\n",
    "    for i in range(len(counts)):\n",
    "        probs = 0\n",
    "        for output in states:\n",
    "            num = sum(int(i) for i in output)\n",
    "            if output in counts[i]:\n",
    "                if(num % 2 == 0):\n",
    "                    probs += counts[i][output]/shots\n",
    "                else:\n",
    "                    probs -= counts[i][output]/shots\n",
    "            else:\n",
    "                probs += 0\n",
    "        Exp.append(coeff[i]*probs)\n",
    "    return sum(Exp)\n",
    "\n"
   ]
  },
  {
   "cell_type": "code",
   "execution_count": 18,
   "id": "c08df4a4",
   "metadata": {
    "collapsed": false,
    "jupyter": {
     "outputs_hidden": false
    },
    "pycharm": {
     "name": "#%%\n"
    }
   },
   "outputs": [
    {
     "name": "stdout",
     "output_type": "stream",
     "text": [
      "MERMIN ideal expectation value for three qubits  4.0\n",
      "MERMIN ideal expectation value for four qubits  8.0\n",
      "MERMIN ideal expectation value for five qubits  16.0\n"
     ]
    }
   ],
   "source": [
    "shots=16384\n",
    "m_ideal1 = ideal_run(mermin1,shots)\n",
    "mermin_exp1 = expectation(m_ideal1,shots,states_three,mermin_coeff1)\n",
    "m_ideal2 = ideal_run(mermin2,shots)\n",
    "mermin_exp2 = expectation(m_ideal2,shots,states_four,mermin_coeff2)\n",
    "m_ideal3 = ideal_run(mermin3,shots)\n",
    "mermin_exp3 = expectation(m_ideal3,shots,states_five,mermin_coeff3)\n",
    "print('MERMIN ideal expectation value for three qubits ',mermin_exp1)\n",
    "print('MERMIN ideal expectation value for four qubits ',mermin_exp2)\n",
    "print('MERMIN ideal expectation value for five qubits ',mermin_exp3)"
   ]
  },
  {
   "cell_type": "code",
   "execution_count": 19,
   "id": "b7f6a3f8",
   "metadata": {
    "collapsed": false,
    "jupyter": {
     "outputs_hidden": false
    },
    "pycharm": {
     "name": "#%%\n"
    }
   },
   "outputs": [
    {
     "name": "stdout",
     "output_type": "stream",
     "text": [
      "ARDEHALI ideal expectation value for three qubits  5.6719970703125\n",
      "ARDEHALI ideal expectation value for four qubits  11.2969970703125\n",
      "ARDEHALI ideal expectation value for five qubits  22.629150390625\n"
     ]
    }
   ],
   "source": [
    "shots=16384\n",
    "a_ideal1 = ideal_run(ardehali1,shots)\n",
    "ardehali_exp1 = expectation(a_ideal1,shots,states_three,ardehali_coeff1)\n",
    "a_ideal2 = ideal_run(ardehali2,shots)\n",
    "ardehali_exp2 = expectation(a_ideal2,shots,states_four,ardehali_coeff2)\n",
    "a_ideal3 = ideal_run(ardehali3,shots)\n",
    "ardehali_exp3 = expectation(a_ideal3,shots,states_five,ardehali_coeff3)\n",
    "print('ARDEHALI ideal expectation value for three qubits ',ardehali_exp1)\n",
    "print('ARDEHALI ideal expectation value for four qubits ',ardehali_exp2)\n",
    "print('ARDEHALI ideal expectation value for five qubits ',ardehali_exp3)"
   ]
  },
  {
   "cell_type": "code",
   "execution_count": 24,
   "id": "6854369e",
   "metadata": {
    "collapsed": false,
    "jupyter": {
     "outputs_hidden": false
    },
    "pycharm": {
     "name": "#%%\n"
    }
   },
   "outputs": [
    {
     "name": "stdout",
     "output_type": "stream",
     "text": [
      "Job Status: job has successfully run\n",
      "Job Status: job has successfully run\n",
      "Job Status: job has successfully run\n",
      "MERMIN real expectation value for three qubits  2.900390625\n",
      "MERMIN real expectation value for four qubits  4.8743896484375\n",
      "MERMIN real expectation value for five qubits  6.30712890625\n"
     ]
    }
   ],
   "source": [
    "shots=4096\n",
    "shots2=16384\n",
    "m_real1= device_run(manila,shots,mermin1)\n",
    "m_exp1 = expectation(m_real1,shots,states_three,mermin_coeff1)\n",
    "m_real2 = device_run(manila,shots2,mermin2)\n",
    "m_exp2 = expectation(m_real2,shots2,states_four,mermin_coeff2)\n",
    "m_real3 = device_run(manila,shots2,mermin3)\n",
    "m_exp3 = expectation(m_real3,shots2,states_five,mermin_coeff3)\n",
    "\n",
    "print('MERMIN real expectation value for three qubits ',m_exp1)\n",
    "print('MERMIN real expectation value for four qubits ',m_exp2)\n",
    "print('MERMIN real expectation value for five qubits ',m_exp3)"
   ]
  },
  {
   "cell_type": "code",
   "execution_count": 27,
   "id": "11c3de4f",
   "metadata": {
    "collapsed": false,
    "jupyter": {
     "outputs_hidden": false
    },
    "pycharm": {
     "name": "#%%\n"
    }
   },
   "outputs": [
    {
     "name": "stdout",
     "output_type": "stream",
     "text": [
      "Job Status: job has successfully run\n",
      "Job Status: job has successfully run\n",
      "Job Status: job has successfully run\n",
      "ARDEHALI real expectation value for three qubits  4.431640625\n",
      "ARDEHALI real expectation value for four qubits  7.251220703125\n",
      "ARDEHALI real expectation value for five qubits  9.8651123046875\n"
     ]
    }
   ],
   "source": [
    "shots=16384\n",
    "a_real1= device_run(manila,shots,ardehali1)\n",
    "a_exp1 = expectation(a_real1,shots,states_three,ardehali_coeff1)\n",
    "a_real2 = device_run(manila,shots,ardehali2)\n",
    "a_exp2 = expectation(a_real2,shots,states_four,ardehali_coeff2)\n",
    "a_real3 = device_run(manila,shots,ardehali3)\n",
    "a_exp3 = expectation(a_real3,shots,states_five,ardehali_coeff3)\n",
    "\n",
    "print('ARDEHALI real expectation value for three qubits ',a_exp1)\n",
    "print('ARDEHALI real expectation value for four qubits ',a_exp2)\n",
    "print('ARDEHALI real expectation value for five qubits ',a_exp3)"
   ]
  }
 ],
 "metadata": {
  "kernelspec": {
   "display_name": "Qiskit v0.35.0 (ipykernel)",
   "language": "python",
   "name": "python3"
  },
  "language_info": {
   "codemirror_mode": {
    "name": "ipython",
    "version": 3
   },
   "file_extension": ".py",
   "mimetype": "text/x-python",
   "name": "python",
   "nbconvert_exporter": "python",
   "pygments_lexer": "ipython3",
   "version": "3.8.13"
  },
  "widgets": {
   "application/vnd.jupyter.widget-state+json": {
    "state": {},
    "version_major": 2,
    "version_minor": 0
   }
  }
 },
 "nbformat": 4,
 "nbformat_minor": 5
}