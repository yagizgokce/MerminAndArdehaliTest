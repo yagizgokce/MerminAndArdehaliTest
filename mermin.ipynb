{
 "cells": [
  {
   "cell_type": "code",
   "execution_count": 1,
   "id": "07f9b901",
   "metadata": {
    "collapsed": false,
    "execution": {
     "iopub.execute_input": "2022-05-24T09:00:42.528483Z",
     "iopub.status.busy": "2022-05-24T09:00:42.527825Z",
     "iopub.status.idle": "2022-05-24T09:00:46.704772Z",
     "shell.execute_reply": "2022-05-24T09:00:46.703709Z"
    },
    "jupyter": {
     "outputs_hidden": false
    },
    "papermill": {
     "duration": 4.279836,
     "end_time": "2022-05-24T09:00:46.707008",
     "exception": false,
     "start_time": "2022-05-24T09:00:42.427172",
     "status": "completed"
    },
    "pycharm": {
     "name": "#%%\n"
    },
    "tags": []
   },
   "outputs": [
    {
     "name": "stderr",
     "output_type": "stream",
     "text": [
      "<frozen importlib._bootstrap>:219: RuntimeWarning: scipy._lib.messagestream.MessageStream size changed, may indicate binary incompatibility. Expected 56 from C header, got 64 from PyObject\n"
     ]
    },
    {
     "data": {
      "text/plain": [
       "{'qiskit-terra': '0.20.0', 'qiskit-aer': '0.10.3', 'qiskit-ignis': '0.7.0', 'qiskit-ibmq-provider': '0.18.3', 'qiskit-aqua': None, 'qiskit': '0.35.0', 'qiskit-nature': '0.3.2', 'qiskit-finance': '0.3.1', 'qiskit-optimization': '0.3.2', 'qiskit-machine-learning': '0.4.0'}"
      ]
     },
     "execution_count": 1,
     "metadata": {},
     "output_type": "execute_result"
    }
   ],
   "source": [
    "\n",
    "\n",
    "import qiskit\n",
    "from qiskit import QuantumCircuit, ClassicalRegister, QuantumRegister, transpile, Aer, IBMQ,execute\n",
    "from qiskit.tools.monitor import job_monitor\n",
    "\n",
    "IBMQ.load_account()\n",
    "provider = IBMQ.get_provider('ibm-q')\n",
    "quito = provider.get_backend('ibmq_quito')\n",
    "manila = provider.get_backend('ibmq_manila')\n",
    "santiago = provider.get_backend('ibmq_santiago')\n",
    "\n",
    "qiskit.__qiskit_version__"
   ]
  },
  {
   "cell_type": "markdown",
   "id": "2c8c60ef",
   "metadata": {
    "papermill": {
     "duration": 0.097003,
     "end_time": "2022-05-24T09:00:46.984516",
     "exception": false,
     "start_time": "2022-05-24T09:00:46.887513",
     "status": "completed"
    },
    "pycharm": {
     "name": "#%% md\n"
    },
    "tags": []
   },
   "source": [
    "# For Three Qubits\n",
    "We create state that\n",
    "$|\\psi\\rangle = \\frac{1}{\\sqrt{2}} (|000\\rangle +i|111\\rangle)\n",
    "$\n"
   ]
  },
  {
   "cell_type": "code",
   "execution_count": 2,
   "id": "6b9f2099",
   "metadata": {
    "collapsed": false,
    "execution": {
     "iopub.execute_input": "2022-05-24T09:00:47.194431Z",
     "iopub.status.busy": "2022-05-24T09:00:47.193923Z",
     "iopub.status.idle": "2022-05-24T09:00:48.795967Z",
     "shell.execute_reply": "2022-05-24T09:00:48.794608Z"
    },
    "jupyter": {
     "outputs_hidden": false
    },
    "papermill": {
     "duration": 1.713337,
     "end_time": "2022-05-24T09:00:48.800629",
     "exception": false,
     "start_time": "2022-05-24T09:00:47.087292",
     "status": "completed"
    },
    "pycharm": {
     "name": "#%%\n"
    },
    "tags": []
   },
   "outputs": [
    {
     "data": {
      "image/png": "[encoded data removed]",
      "text/plain": [
       "<Figure size 327.397x264.88 with 1 Axes>"
      ]
     },
     "execution_count": 2,
     "metadata": {},
     "output_type": "execute_result"
    }
   ],
   "source": [
    "#create state 1/sqrt(2)*(|000>+i|111>)\n",
    "q1 = QuantumRegister(3,'q')\n",
    "c1 = ClassicalRegister(3,'c')\n",
    "circuit1 = QuantumCircuit(q1, c1)\n",
    "circuit1.h(q1[0])\n",
    "\n",
    "circuit1.cx(q1[0],q1[1])\n",
    "\n",
    "circuit1.cx(q1[1],q1[2])\n",
    "\n",
    "circuit1.s(q1[0])\n",
    "circuit1.barrier()\n",
    "circuit1.draw(output='mpl')\n"
   ]
  },
  {
   "cell_type": "markdown",
   "id": "61f86cbd",
   "metadata": {
    "papermill": {
     "duration": 0.211753,
     "end_time": "2022-05-24T09:00:49.110144",
     "exception": false,
     "start_time": "2022-05-24T09:00:48.898391",
     "status": "completed"
    },
    "pycharm": {
     "name": "#%% md\n"
    },
    "tags": []
   },
   "source": [
    "# For Four Qubits\n",
    "We create state that\n",
    "$|\\psi\\rangle = \\frac{1}{\\sqrt{2}} (|0000\\rangle +i|1111\\rangle)\n",
    "$"
   ]
  },
  {
   "cell_type": "code",
   "execution_count": 3,
   "id": "63406da5",
   "metadata": {
    "collapsed": false,
    "execution": {
     "iopub.execute_input": "2022-05-24T09:00:49.543726Z",
     "iopub.status.busy": "2022-05-24T09:00:49.543089Z",
     "iopub.status.idle": "2022-05-24T09:00:49.705466Z",
     "shell.execute_reply": "2022-05-24T09:00:49.704800Z"
    },
    "jupyter": {
     "outputs_hidden": false
    },
    "papermill": {
     "duration": 0.32234,
     "end_time": "2022-05-24T09:00:49.709797",
     "exception": false,
     "start_time": "2022-05-24T09:00:49.387457",
     "status": "completed"
    },
    "pycharm": {
     "name": "#%%\n"
    },
    "tags": []
   },
   "outputs": [
    {
     "data": {
      "image/png": "[encoded data removed]",
      "text/plain": [
       "<Figure size 387.597x325.08 with 1 Axes>"
      ]
     },
     "execution_count": 3,
     "metadata": {},
     "output_type": "execute_result"
    }
   ],
   "source": [
    "q2 = QuantumRegister(4, 'q')\n",
    "c2 = ClassicalRegister(4, 'c')\n",
    "circuit2 = QuantumCircuit(q2, c2)\n",
    "circuit2.h(q2[0])\n",
    "circuit2.cx(q2[0], q2[1])\n",
    "circuit2.cx(q2[1], q2[2])\n",
    "circuit2.cx(q2[2], q2[3])\n",
    "\n",
    "circuit2.s(q2[0])\n",
    "circuit2.barrier()\n",
    "circuit2.draw(output='mpl')"
   ]
  },
  {
   "cell_type": "markdown",
   "id": "85e4c948",
   "metadata": {
    "papermill": {
     "duration": 0.104805,
     "end_time": "2022-05-24T09:00:49.913972",
     "exception": false,
     "start_time": "2022-05-24T09:00:49.809167",
     "status": "completed"
    },
    "pycharm": {
     "name": "#%% md\n"
    },
    "tags": []
   },
   "source": [
    "# For Five Qubits\n",
    "We create state that\n",
    "$|\\psi\\rangle = \\frac{1}{\\sqrt{2}} (|00000\\rangle +i|11111\\rangle)\n",
    "$"
   ]
  },
  {
   "cell_type": "code",
   "execution_count": 4,
   "id": "78c639de",
   "metadata": {
    "collapsed": false,
    "execution": {
     "iopub.execute_input": "2022-05-24T09:00:50.101865Z",
     "iopub.status.busy": "2022-05-24T09:00:50.101291Z",
     "iopub.status.idle": "2022-05-24T09:00:50.295516Z",
     "shell.execute_reply": "2022-05-24T09:00:50.294872Z"
    },
    "jupyter": {
     "outputs_hidden": false
    },
    "papermill": {
     "duration": 0.29265,
     "end_time": "2022-05-24T09:00:50.299841",
     "exception": false,
     "start_time": "2022-05-24T09:00:50.007191",
     "status": "completed"
    },
    "pycharm": {
     "name": "#%%\n"
    },
    "tags": []
   },
   "outputs": [
    {
     "data": {
      "image/png": "[encoded data removed]",
      "text/plain": [
       "<Figure size 447.797x385.28 with 1 Axes>"
      ]
     },
     "execution_count": 4,
     "metadata": {},
     "output_type": "execute_result"
    }
   ],
   "source": [
    "q3 = QuantumRegister(5, 'q')\n",
    "c3 = ClassicalRegister(5, 'c')\n",
    "circuit3 = QuantumCircuit(q3, c3)\n",
    "circuit3.h(q3[0])\n",
    "circuit3.cx(q3[0], q3[1])\n",
    "circuit3.cx(q3[1], q3[2])\n",
    "circuit3.cx(q3[2], q3[3])\n",
    "circuit3.cx(q3[3], q3[4])\n",
    "circuit3.s(q3[0])\n",
    "circuit3.barrier()\n",
    "circuit3.draw(output='mpl')"
   ]
  },
  {
   "cell_type": "code",
   "execution_count": 5,
   "id": "3aa1888e",
   "metadata": {
    "collapsed": false,
    "execution": {
     "iopub.execute_input": "2022-05-24T09:00:50.504893Z",
     "iopub.status.busy": "2022-05-24T09:00:50.502387Z",
     "iopub.status.idle": "2022-05-24T09:00:51.299517Z",
     "shell.execute_reply": "2022-05-24T09:00:51.298879Z"
    },
    "jupyter": {
     "outputs_hidden": false
    },
    "papermill": {
     "duration": 0.906129,
     "end_time": "2022-05-24T09:00:51.303387",
     "exception": false,
     "start_time": "2022-05-24T09:00:50.397258",
     "status": "completed"
    },
    "pycharm": {
     "name": "#%%\n"
    },
    "tags": []
   },
   "outputs": [
    {
     "data": {
      "text/plain": [
       "<qiskit.providers.aer.jobs.aerjob.AerJob at 0x7fe6661a9880>"
      ]
     },
     "execution_count": 5,
     "metadata": {},
     "output_type": "execute_result"
    }
   ],
   "source": [
    "import qiskit.quantum_info as qi\n",
    "stv1 = qi.Statevector.from_instruction(circuit1)\n",
    "stv2 = qi.Statevector.from_instruction(circuit2)\n",
    "stv3 = qi.Statevector.from_instruction(circuit3)\n",
    "sim = Aer.get_backend('aer_simulator')\n",
    "options = {'method': 'statevector'}\n",
    "execute(circuit1, sim, backend_options=options)\n",
    "execute(circuit3, sim, backend_options=options)\n",
    "execute(circuit2, sim, backend_options=options)"
   ]
  },
  {
   "cell_type": "code",
   "execution_count": 6,
   "id": "e851a44d",
   "metadata": {
    "collapsed": false,
    "execution": {
     "iopub.execute_input": "2022-05-24T09:00:51.534480Z",
     "iopub.status.busy": "2022-05-24T09:00:51.533694Z",
     "iopub.status.idle": "2022-05-24T09:00:52.296157Z",
     "shell.execute_reply": "2022-05-24T09:00:52.294091Z"
    },
    "jupyter": {
     "outputs_hidden": false
    },
    "papermill": {
     "duration": 0.892372,
     "end_time": "2022-05-24T09:00:52.300502",
     "exception": false,
     "start_time": "2022-05-24T09:00:51.408130",
     "status": "completed"
    },
    "pycharm": {
     "name": "#%%\n"
    },
    "tags": []
   },
   "outputs": [
    {
     "data": {
      "text/latex": [
       "$$\\frac{\\sqrt{2}}{2} |000\\rangle+\\frac{\\sqrt{2} i}{2} |111\\rangle$$"
      ],
      "text/plain": [
       "<IPython.core.display.Latex object>"
      ]
     },
     "execution_count": 6,
     "metadata": {},
     "output_type": "execute_result"
    }
   ],
   "source": [
    "stv1.draw('latex', prefix='Statevector1:')"
   ]
  },
  {
   "cell_type": "code",
   "execution_count": 7,
   "id": "e0908ea7",
   "metadata": {
    "collapsed": false,
    "execution": {
     "iopub.execute_input": "2022-05-24T09:00:52.550305Z",
     "iopub.status.busy": "2022-05-24T09:00:52.549663Z",
     "iopub.status.idle": "2022-05-24T09:00:52.730539Z",
     "shell.execute_reply": "2022-05-24T09:00:52.729005Z"
    },
    "jupyter": {
     "outputs_hidden": false
    },
    "papermill": {
     "duration": 0.308496,
     "end_time": "2022-05-24T09:00:52.734770",
     "exception": false,
     "start_time": "2022-05-24T09:00:52.426274",
     "status": "completed"
    },
    "pycharm": {
     "name": "#%%\n"
    },
    "tags": []
   },
   "outputs": [
    {
     "data": {
      "text/latex": [
       "$$\\frac{\\sqrt{2}}{2} |0000\\rangle+\\frac{\\sqrt{2} i}{2} |1111\\rangle$$"
      ],
      "text/plain": [
       "<IPython.core.display.Latex object>"
      ]
     },
     "execution_count": 7,
     "metadata": {},
     "output_type": "execute_result"
    }
   ],
   "source": [
    "stv2.draw('latex', prefix='Statevector2:')"
   ]
  },
  {
   "cell_type": "code",
   "execution_count": 8,
   "id": "2ac0aa11",
   "metadata": {
    "collapsed": false,
    "execution": {
     "iopub.execute_input": "2022-05-24T09:00:53.144495Z",
     "iopub.status.busy": "2022-05-24T09:00:53.143800Z",
     "iopub.status.idle": "2022-05-24T09:00:53.473230Z",
     "shell.execute_reply": "2022-05-24T09:00:53.471218Z"
    },
    "jupyter": {
     "outputs_hidden": false
    },
    "papermill": {
     "duration": 0.64555,
     "end_time": "2022-05-24T09:00:53.477938",
     "exception": false,
     "start_time": "2022-05-24T09:00:52.832388",
     "status": "completed"
    },
    "pycharm": {
     "name": "#%%\n"
    },
    "tags": []
   },
   "outputs": [
    {
     "data": {
      "text/latex": [
       "$$\\frac{\\sqrt{2}}{2} |00000\\rangle+\\frac{\\sqrt{2} i}{2} |11111\\rangle$$"
      ],
      "text/plain": [
       "<IPython.core.display.Latex object>"
      ]
     },
     "execution_count": 8,
     "metadata": {},
     "output_type": "execute_result"
    }
   ],
   "source": [
    "stv3.draw('latex', prefix='Statevector3:')"
   ]
  },
  {
   "cell_type": "code",
   "execution_count": 9,
   "id": "5e4920d7",
   "metadata": {
    "collapsed": false,
    "execution": {
     "iopub.execute_input": "2022-05-24T09:00:54.702620Z",
     "iopub.status.busy": "2022-05-24T09:00:54.702076Z",
     "iopub.status.idle": "2022-05-24T09:00:54.715221Z",
     "shell.execute_reply": "2022-05-24T09:00:54.713901Z"
    },
    "jupyter": {
     "outputs_hidden": false
    },
    "papermill": {
     "duration": 1.125467,
     "end_time": "2022-05-24T09:00:54.719088",
     "exception": false,
     "start_time": "2022-05-24T09:00:53.593621",
     "status": "completed"
    },
    "pycharm": {
     "name": "#%%\n"
    },
    "tags": []
   },
   "outputs": [],
   "source": [
    "def measure_state(name,q,c,circuit):\n",
    "    measurename = QuantumCircuit(q,c)\n",
    "    state = 0\n",
    "    for i in name:\n",
    "        if i == 'X':\n",
    "            measurename.h(q[state])\n",
    "        elif i == 'Y':\n",
    "            measurename.sdg(q[state])\n",
    "            measurename.h(q[state])\n",
    "        elif i == 'A':\n",
    "            measurename.tdg(q[state])\n",
    "            measurename.h(q[state])\n",
    "        elif i == 'B':\n",
    "            measurename.t(q[state])\n",
    "            measurename.h(q[state])\n",
    "\n",
    "        state += 1\n",
    "    for i in range(state):\n",
    "        measurename.measure(q[i],c[i])\n",
    "\n",
    "    circuitname = circuit+measurename\n",
    "    return circuitname\n"
   ]
  },
  {
   "cell_type": "code",
   "execution_count": 10,
   "id": "25bba363",
   "metadata": {
    "collapsed": false,
    "execution": {
     "iopub.execute_input": "2022-05-24T09:00:55.870831Z",
     "iopub.status.busy": "2022-05-24T09:00:55.870223Z",
     "iopub.status.idle": "2022-05-24T09:00:55.891076Z",
     "shell.execute_reply": "2022-05-24T09:00:55.889805Z"
    },
    "jupyter": {
     "outputs_hidden": false
    },
    "papermill": {
     "duration": 0.824035,
     "end_time": "2022-05-24T09:00:55.894741",
     "exception": false,
     "start_time": "2022-05-24T09:00:55.070706",
     "status": "completed"
    },
    "pycharm": {
     "name": "#%%\n"
    },
    "tags": []
   },
   "outputs": [],
   "source": [
    "from itertools import product\n",
    "\n",
    "def operator(x, y,qubit):\n",
    "\n",
    "    oper = {'X':x,'Y':y}\n",
    "    arr = list(product(oper,repeat=qubit))\n",
    "    arr2 = list(product([oper['X'],oper['Y']],repeat=qubit))\n",
    "    result = {}\n",
    "    for i in range(len(arr)):\n",
    "        sum = ''\n",
    "        prod = 1\n",
    "        for j in range(len(arr[i])):\n",
    "            sum += arr[i][j]\n",
    "            prod *= arr2[i][j]\n",
    "        result[sum] = prod\n",
    "    return result\n",
    "\n",
    "def mermin_circuits(circuit,qubit):\n",
    "    q = circuit.qregs[0]\n",
    "    c = circuit.cregs[0]\n",
    "    a = operator(1, 1j,qubit)\n",
    "    b = operator(1, -1j,qubit)\n",
    "    cir = []\n",
    "    cir_name=[]\n",
    "    coef = []\n",
    "    for i in a:\n",
    "        if(a[i] != b[i]):\n",
    "            locals()['circuit%s' % i] = measure_state(i,q,c,circuit)\n",
    "            cir.append(locals()['circuit%s' % i])\n",
    "            cir_name.append('circuit'+i)\n",
    "            coef.append(a[i].imag )\n",
    "    return cir,cir_name,coef\n"
   ]
  },
  {
   "cell_type": "code",
   "execution_count": 11,
   "id": "be678dbf",
   "metadata": {
    "collapsed": false,
    "execution": {
     "iopub.execute_input": "2022-05-24T09:00:56.213295Z",
     "iopub.status.busy": "2022-05-24T09:00:56.212717Z",
     "iopub.status.idle": "2022-05-24T09:00:56.228298Z",
     "shell.execute_reply": "2022-05-24T09:00:56.227059Z"
    },
    "jupyter": {
     "outputs_hidden": false
    },
    "papermill": {
     "duration": 0.233419,
     "end_time": "2022-05-24T09:00:56.231707",
     "exception": false,
     "start_time": "2022-05-24T09:00:55.998288",
     "status": "completed"
    },
    "pycharm": {
     "name": "#%%\n"
    },
    "tags": []
   },
   "outputs": [],
   "source": [
    "\n",
    "def ardehali_circuits(circuit,qubit):\n",
    "    q = circuit.qregs[0]\n",
    "    c = circuit.cregs[0]\n",
    "    im_th = {'A':1,'B':1}\n",
    "    re_th = {'A':1,'B':-1}\n",
    "    a = operator(1, 1j,qubit-1)\n",
    "    new_a={}\n",
    "    new_b={}\n",
    "    for i in a:\n",
    "        for j in re_th:\n",
    "            temp = i\n",
    "            new_a[temp+j] = re_th[j]*a[i]\n",
    "\n",
    "\n",
    "    for i in a:\n",
    "        for j in im_th:\n",
    "            temp = i\n",
    "            new_b[temp+j] = im_th[j]*a[i]\n",
    "\n",
    "    cir = []\n",
    "    cir_name=[]\n",
    "    coef = []\n",
    "    for i in new_a:\n",
    "        if(new_a[i].real != 0):\n",
    "\n",
    "            locals()['circuit%s' % i] = measure_state(i,q,c,circuit)\n",
    "            cir.append(locals()['circuit%s' % i])\n",
    "            cir_name.append('circuit'+i)\n",
    "            coef.append(int(new_a[i].real))\n",
    "    for i in new_b:\n",
    "        if(new_b[i].imag != 0):\n",
    "            locals()['circuit%s' % i] = measure_state(i,q,c,circuit)\n",
    "            cir.append(locals()['circuit%s' % i])\n",
    "            cir_name.append('circuit'+i)\n",
    "            coef.append(int(new_b[i].imag))\n",
    "    return cir,cir_name,coef\n"
   ]
  },
  {
   "cell_type": "code",
   "execution_count": 12,
   "id": "88061af4",
   "metadata": {
    "collapsed": false,
    "execution": {
     "iopub.execute_input": "2022-05-24T09:00:56.972726Z",
     "iopub.status.busy": "2022-05-24T09:00:56.971984Z",
     "iopub.status.idle": "2022-05-24T09:00:57.038698Z",
     "shell.execute_reply": "2022-05-24T09:00:57.036948Z"
    },
    "jupyter": {
     "outputs_hidden": false
    },
    "papermill": {
     "duration": 0.39911,
     "end_time": "2022-05-24T09:00:57.042292",
     "exception": false,
     "start_time": "2022-05-24T09:00:56.643182",
     "status": "completed"
    },
    "pycharm": {
     "name": "#%%\n"
    },
    "tags": []
   },
   "outputs": [
    {
     "name": "stderr",
     "output_type": "stream",
     "text": [
      "/tmp/ipykernel_107/2043140286.py:21: DeprecationWarning: The QuantumCircuit.__add__() method is being deprecated.Use the compose() method which is more flexible w.r.t circuit register compatibility.\n",
      "  circuitname = circuit+measurename\n"
     ]
    }
   ],
   "source": [
    "############################3-QUBIT CIRCUİTS###############################\n",
    "states_three = ['000','001','010','011','100','101','110','111']\n",
    "mermin1,mermin1_name,mermin_coeff1 = mermin_circuits(circuit1,3)\n",
    "ardehali1,ardehali1_name,ardehali_coeff1 = ardehali_circuits(circuit1,3)\n",
    "\n",
    "############################4-QUBIT CIRCUİTS###############################\n",
    "states_four = ['0000','0001','0010','0011','0100','0101','0110','0111','1000','1001','1010','1011','1100','1101','1110','1111',]\n",
    "mermin2,mermin2_name,mermin_coeff2 = mermin_circuits(circuit2,4)\n",
    "ardehali2,ardehali2_name,ardehali_coeff2 = ardehali_circuits(circuit2,4)\n",
    "\n",
    "############################5-QUBIT CIRCUİTS###############################\n",
    "states_five = ['00000','00001','00010','00011','00100','00101','00110','00111','01000','01001','01010','01011','01100','01101','01110','01111','10000','10001','10010','10011','10100','10101','10110','10111','11000','11001','11010','11011','11100','11101','11110','11111']\n",
    "mermin3,mermin3_name,mermin_coeff3 = mermin_circuits(circuit3,5)\n",
    "ardehali3,ardehali3_name,ardehali_coeff3 = ardehali_circuits(circuit3,5)"
   ]
  },
  {
   "cell_type": "code",
   "execution_count": 13,
   "id": "32dce818",
   "metadata": {
    "collapsed": false,
    "execution": {
     "iopub.execute_input": "2022-05-24T09:00:57.262692Z",
     "iopub.status.busy": "2022-05-24T09:00:57.261292Z",
     "iopub.status.idle": "2022-05-24T09:00:57.442887Z",
     "shell.execute_reply": "2022-05-24T09:00:57.441014Z"
    },
    "jupyter": {
     "outputs_hidden": false
    },
    "papermill": {
     "duration": 0.299886,
     "end_time": "2022-05-24T09:00:57.444580",
     "exception": false,
     "start_time": "2022-05-24T09:00:57.144694",
     "status": "completed"
    },
    "pycharm": {
     "name": "#%%\n"
    },
    "tags": []
   },
   "outputs": [
    {
     "name": "stdout",
     "output_type": "stream",
     "text": [
      "['circuitXXY', 'circuitXYX', 'circuitYXX', 'circuitYYY']\n"
     ]
    },
    {
     "data": {
      "image/png": "[encoded data removed]",
      "text/plain": [
       "<Figure size 628.397x264.88 with 1 Axes>"
      ]
     },
     "execution_count": 13,
     "metadata": {},
     "output_type": "execute_result"
    }
   ],
   "source": [
    "print(mermin1_name)\n",
    "mermin1[0].draw(output='mpl')"
   ]
  },
  {
   "cell_type": "code",
   "execution_count": 14,
   "id": "24186f5a",
   "metadata": {
    "collapsed": false,
    "execution": {
     "iopub.execute_input": "2022-05-24T09:00:58.915041Z",
     "iopub.status.busy": "2022-05-24T09:00:58.914509Z",
     "iopub.status.idle": "2022-05-24T09:00:59.262953Z",
     "shell.execute_reply": "2022-05-24T09:00:59.262070Z"
    },
    "jupyter": {
     "outputs_hidden": false
    },
    "papermill": {
     "duration": 1.725318,
     "end_time": "2022-05-24T09:00:59.267382",
     "exception": false,
     "start_time": "2022-05-24T09:00:57.542064",
     "status": "completed"
    },
    "pycharm": {
     "name": "#%%\n"
    },
    "tags": []
   },
   "outputs": [
    {
     "name": "stdout",
     "output_type": "stream",
     "text": [
      "['circuitXXXY', 'circuitXXYX', 'circuitXYXX', 'circuitXYYY', 'circuitYXXX', 'circuitYXYY', 'circuitYYXY', 'circuitYYYX']\n",
      "[1.0, 1.0, 1.0, -1.0, 1.0, -1.0, -1.0, -1.0]\n"
     ]
    },
    {
     "data": {
      "image/png": "[encoded data removed]",
      "text/plain": [
       "<Figure size 748.797x325.08 with 1 Axes>"
      ]
     },
     "execution_count": 14,
     "metadata": {},
     "output_type": "execute_result"
    }
   ],
   "source": [
    "print(mermin2_name)\n",
    "print(mermin_coeff2)\n",
    "mermin2[0].draw(output='mpl')"
   ]
  },
  {
   "cell_type": "code",
   "execution_count": 15,
   "id": "c3412c58",
   "metadata": {
    "collapsed": false,
    "execution": {
     "iopub.execute_input": "2022-05-24T09:00:59.579238Z",
     "iopub.status.busy": "2022-05-24T09:00:59.577771Z",
     "iopub.status.idle": "2022-05-24T09:00:59.833554Z",
     "shell.execute_reply": "2022-05-24T09:00:59.832555Z"
    },
    "jupyter": {
     "outputs_hidden": false
    },
    "papermill": {
     "duration": 0.366935,
     "end_time": "2022-05-24T09:00:59.837456",
     "exception": false,
     "start_time": "2022-05-24T09:00:59.470521",
     "status": "completed"
    },
    "pycharm": {
     "name": "#%%\n"
    },
    "tags": []
   },
   "outputs": [
    {
     "name": "stdout",
     "output_type": "stream",
     "text": [
      "['circuitXXXXY', 'circuitXXXYX', 'circuitXXYXX', 'circuitXXYYY', 'circuitXYXXX', 'circuitXYXYY', 'circuitXYYXY', 'circuitXYYYX', 'circuitYXXXX', 'circuitYXXYY', 'circuitYXYXY', 'circuitYXYYX', 'circuitYYXXY', 'circuitYYXYX', 'circuitYYYXX', 'circuitYYYYY']\n"
     ]
    },
    {
     "data": {
      "image/png": "[encoded data removed]",
      "text/plain": [
       "<Figure size 869.197x385.28 with 1 Axes>"
      ]
     },
     "execution_count": 15,
     "metadata": {},
     "output_type": "execute_result"
    }
   ],
   "source": [
    "print(mermin3_name)\n",
    "mermin3[0].draw(output='mpl')"
   ]
  },
  {
   "cell_type": "code",
   "execution_count": 16,
   "id": "394b3caf",
   "metadata": {
    "collapsed": false,
    "execution": {
     "iopub.execute_input": "2022-05-24T09:01:00.129288Z",
     "iopub.status.busy": "2022-05-24T09:01:00.128744Z",
     "iopub.status.idle": "2022-05-24T09:01:00.325471Z",
     "shell.execute_reply": "2022-05-24T09:01:00.324930Z"
    },
    "jupyter": {
     "outputs_hidden": false
    },
    "papermill": {
     "duration": 0.392828,
     "end_time": "2022-05-24T09:01:00.330863",
     "exception": false,
     "start_time": "2022-05-24T09:00:59.938035",
     "status": "completed"
    },
    "pycharm": {
     "name": "#%%\n"
    },
    "tags": []
   },
   "outputs": [
    {
     "name": "stdout",
     "output_type": "stream",
     "text": [
      "['circuitXXA', 'circuitXXB', 'circuitYYA', 'circuitYYB', 'circuitXYA', 'circuitXYB', 'circuitYXA', 'circuitYXB']\n",
      "[1, -1, -1, 1, 1, 1, 1, 1]\n"
     ]
    },
    {
     "data": {
      "image/png": "[encoded data removed]",
      "text/plain": [
       "<Figure size 628.397x264.88 with 1 Axes>"
      ]
     },
     "execution_count": 16,
     "metadata": {},
     "output_type": "execute_result"
    }
   ],
   "source": [
    "print(ardehali1_name)\n",
    "print(ardehali_coeff1)\n",
    "ardehali1[6].draw(output='mpl')"
   ]
  },
  {
   "cell_type": "code",
   "execution_count": 17,
   "id": "db40dedd",
   "metadata": {
    "collapsed": false,
    "execution": {
     "iopub.execute_input": "2022-05-24T09:01:00.794601Z",
     "iopub.status.busy": "2022-05-24T09:01:00.793992Z",
     "iopub.status.idle": "2022-05-24T09:01:01.033747Z",
     "shell.execute_reply": "2022-05-24T09:01:01.032724Z"
    },
    "jupyter": {
     "outputs_hidden": false
    },
    "papermill": {
     "duration": 0.601651,
     "end_time": "2022-05-24T09:01:01.038631",
     "exception": false,
     "start_time": "2022-05-24T09:01:00.436980",
     "status": "completed"
    },
    "pycharm": {
     "name": "#%%\n"
    },
    "tags": []
   },
   "outputs": [
    {
     "name": "stdout",
     "output_type": "stream",
     "text": [
      "['circuitXXXA', 'circuitXXXB', 'circuitXYYA', 'circuitXYYB', 'circuitYXYA', 'circuitYXYB', 'circuitYYXA', 'circuitYYXB', 'circuitXXYA', 'circuitXXYB', 'circuitXYXA', 'circuitXYXB', 'circuitYXXA', 'circuitYXXB', 'circuitYYYA', 'circuitYYYB']\n"
     ]
    },
    {
     "data": {
      "image/png": "[encoded data removed]",
      "text/plain": [
       "<Figure size 748.797x325.08 with 1 Axes>"
      ]
     },
     "execution_count": 17,
     "metadata": {},
     "output_type": "execute_result"
    }
   ],
   "source": [
    "print(ardehali2_name)\n",
    "ardehali2[0].draw(output='mpl')"
   ]
  },
  {
   "cell_type": "code",
   "execution_count": 18,
   "id": "e3548c14",
   "metadata": {
    "collapsed": false,
    "execution": {
     "iopub.execute_input": "2022-05-24T09:01:01.299461Z",
     "iopub.status.busy": "2022-05-24T09:01:01.298878Z",
     "iopub.status.idle": "2022-05-24T09:01:01.550674Z",
     "shell.execute_reply": "2022-05-24T09:01:01.549703Z"
    },
    "jupyter": {
     "outputs_hidden": false
    },
    "papermill": {
     "duration": 0.42361,
     "end_time": "2022-05-24T09:01:01.555591",
     "exception": false,
     "start_time": "2022-05-24T09:01:01.131981",
     "status": "completed"
    },
    "pycharm": {
     "name": "#%%\n"
    },
    "tags": []
   },
   "outputs": [
    {
     "name": "stdout",
     "output_type": "stream",
     "text": [
      "['circuitXXXXA', 'circuitXXXXB', 'circuitXXYYA', 'circuitXXYYB', 'circuitXYXYA', 'circuitXYXYB', 'circuitXYYXA', 'circuitXYYXB', 'circuitYXXYA', 'circuitYXXYB', 'circuitYXYXA', 'circuitYXYXB', 'circuitYYXXA', 'circuitYYXXB', 'circuitYYYYA', 'circuitYYYYB', 'circuitXXXYA', 'circuitXXXYB', 'circuitXXYXA', 'circuitXXYXB', 'circuitXYXXA', 'circuitXYXXB', 'circuitXYYYA', 'circuitXYYYB', 'circuitYXXXA', 'circuitYXXXB', 'circuitYXYYA', 'circuitYXYYB', 'circuitYYXYA', 'circuitYYXYB', 'circuitYYYXA', 'circuitYYYXB']\n"
     ]
    },
    {
     "data": {
      "image/png": "[encoded data removed]",
      "text/plain": [
       "<Figure size 869.197x385.28 with 1 Axes>"
      ]
     },
     "execution_count": 18,
     "metadata": {},
     "output_type": "execute_result"
    }
   ],
   "source": [
    "print(ardehali3_name)\n",
    "ardehali3[0].draw(output='mpl')"
   ]
  },
  {
   "cell_type": "code",
   "execution_count": 19,
   "id": "d66aa17d-9f81-4ed2-b998-64b559fe9827",
   "metadata": {
    "execution": {
     "iopub.execute_input": "2022-05-24T09:01:01.944207Z",
     "iopub.status.busy": "2022-05-24T09:01:01.942177Z",
     "iopub.status.idle": "2022-05-24T09:01:01.952938Z",
     "shell.execute_reply": "2022-05-24T09:01:01.951771Z"
    },
    "papermill": {
     "duration": 0.280699,
     "end_time": "2022-05-24T09:01:01.956335",
     "exception": false,
     "start_time": "2022-05-24T09:01:01.675636",
     "status": "completed"
    },
    "tags": []
   },
   "outputs": [],
   "source": [
    "def device_run(device,shots,circuits):\n",
    "    transpiled_circuits = transpile(circuits, device)\n",
    "    job_real = device.run(transpiled_circuits, shots=shots)\n",
    "    job_monitor(job_real)\n",
    "    result_real = job_real.result()\n",
    "\n",
    "    counts = []\n",
    "    for i in circuits:\n",
    "        counts.append(result_real.get_counts(i))\n",
    "    return counts\n"
   ]
  },
  {
   "cell_type": "code",
   "execution_count": 20,
   "id": "70ffee80",
   "metadata": {
    "collapsed": false,
    "execution": {
     "iopub.execute_input": "2022-05-24T09:01:02.259937Z",
     "iopub.status.busy": "2022-05-24T09:01:02.259356Z",
     "iopub.status.idle": "2022-05-24T09:01:02.269123Z",
     "shell.execute_reply": "2022-05-24T09:01:02.267861Z"
    },
    "jupyter": {
     "outputs_hidden": false
    },
    "papermill": {
     "duration": 0.169008,
     "end_time": "2022-05-24T09:01:02.272849",
     "exception": false,
     "start_time": "2022-05-24T09:01:02.103841",
     "status": "completed"
    },
    "pycharm": {
     "name": "#%%\n"
    },
    "tags": []
   },
   "outputs": [],
   "source": [
    "def ideal_run(circuits,shots):\n",
    "    sim = Aer.get_backend('aer_simulator')\n",
    "    result_ideal = sim.run(circuits,shots=shots).result()\n",
    "    ideal_counts=[]\n",
    "    for i in circuits:\n",
    "        ideal_counts.append(result_ideal.get_counts(i))\n",
    "    return ideal_counts\n",
    "\n"
   ]
  },
  {
   "cell_type": "code",
   "execution_count": 21,
   "id": "c96d9b0e-dddd-46bd-9011-9c2ec4219f0d",
   "metadata": {
    "execution": {
     "iopub.execute_input": "2022-05-24T09:01:02.853121Z",
     "iopub.status.busy": "2022-05-24T09:01:02.852507Z",
     "iopub.status.idle": "2022-05-24T09:01:02.866937Z",
     "shell.execute_reply": "2022-05-24T09:01:02.865377Z"
    },
    "papermill": {
     "duration": 0.421199,
     "end_time": "2022-05-24T09:01:02.870230",
     "exception": false,
     "start_time": "2022-05-24T09:01:02.449031",
     "status": "completed"
    },
    "pycharm": {
     "name": "#%%\n"
    },
    "tags": []
   },
   "outputs": [],
   "source": [
    "def expectation(counts,shots,states,coeff):\n",
    "    Exp=[]\n",
    "    for i in range(len(counts)):\n",
    "        probs = 0\n",
    "        for output in states:\n",
    "            num = sum(int(i) for i in output)\n",
    "            if output in counts[i]:\n",
    "                if(num % 2 == 0):\n",
    "                    probs += counts[i][output]/shots\n",
    "                else:\n",
    "                    probs -= counts[i][output]/shots\n",
    "            else:\n",
    "                probs += 0\n",
    "        Exp.append(coeff[i]*probs)\n",
    "    return sum(Exp)\n",
    "\n"
   ]
  },
  {
   "cell_type": "code",
   "execution_count": 22,
   "id": "c08df4a4",
   "metadata": {
    "collapsed": false,
    "execution": {
     "iopub.execute_input": "2022-05-24T09:01:03.521470Z",
     "iopub.status.busy": "2022-05-24T09:01:03.520671Z",
     "iopub.status.idle": "2022-05-24T09:01:05.394541Z",
     "shell.execute_reply": "2022-05-24T09:01:05.393399Z"
    },
    "jupyter": {
     "outputs_hidden": false
    },
    "papermill": {
     "duration": 2.108346,
     "end_time": "2022-05-24T09:01:05.396687",
     "exception": false,
     "start_time": "2022-05-24T09:01:03.288341",
     "status": "completed"
    },
    "pycharm": {
     "name": "#%%\n"
    },
    "tags": []
   },
   "outputs": [
    {
     "name": "stdout",
     "output_type": "stream",
     "text": [
      "MERMIN ideal expectation value for three qubits  4.0\n",
      "MERMIN ideal expectation value for four qubits  8.0\n",
      "MERMIN ideal expectation value for five qubits  16.0\n"
     ]
    }
   ],
   "source": [
    "shots=16384\n",
    "m_ideal1 = ideal_run(mermin1,shots)\n",
    "mermin_exp1 = expectation(m_ideal1,shots,states_three,mermin_coeff1)\n",
    "m_ideal2 = ideal_run(mermin2,shots)\n",
    "mermin_exp2 = expectation(m_ideal2,shots,states_four,mermin_coeff2)\n",
    "m_ideal3 = ideal_run(mermin3,shots)\n",
    "mermin_exp3 = expectation(m_ideal3,shots,states_five,mermin_coeff3)\n",
    "print('MERMIN ideal expectation value for three qubits ',mermin_exp1)\n",
    "print('MERMIN ideal expectation value for four qubits ',mermin_exp2)\n",
    "print('MERMIN ideal expectation value for five qubits ',mermin_exp3)"
   ]
  },
  {
   "cell_type": "code",
   "execution_count": 23,
   "id": "b7f6a3f8",
   "metadata": {
    "collapsed": false,
    "execution": {
     "iopub.execute_input": "2022-05-24T09:01:05.604373Z",
     "iopub.status.busy": "2022-05-24T09:01:05.603757Z",
     "iopub.status.idle": "2022-05-24T09:01:08.070947Z",
     "shell.execute_reply": "2022-05-24T09:01:08.069869Z"
    },
    "jupyter": {
     "outputs_hidden": false
    },
    "papermill": {
     "duration": 2.578939,
     "end_time": "2022-05-24T09:01:08.073090",
     "exception": false,
     "start_time": "2022-05-24T09:01:05.494151",
     "status": "completed"
    },
    "pycharm": {
     "name": "#%%\n"
    },
    "tags": []
   },
   "outputs": [
    {
     "name": "stdout",
     "output_type": "stream",
     "text": [
      "ARDEHALI ideal expectation value for three qubits  5.6611328125\n",
      "ARDEHALI ideal expectation value for four qubits  11.2696533203125\n",
      "ARDEHALI ideal expectation value for five qubits  22.552734375\n"
     ]
    }
   ],
   "source": [
    "shots=16384\n",
    "a_ideal1 = ideal_run(ardehali1,shots)\n",
    "ardehali_exp1 = expectation(a_ideal1,shots,states_three,ardehali_coeff1)\n",
    "a_ideal2 = ideal_run(ardehali2,shots)\n",
    "ardehali_exp2 = expectation(a_ideal2,shots,states_four,ardehali_coeff2)\n",
    "a_ideal3 = ideal_run(ardehali3,shots)\n",
    "ardehali_exp3 = expectation(a_ideal3,shots,states_five,ardehali_coeff3)\n",
    "print('ARDEHALI ideal expectation value for three qubits ',ardehali_exp1)\n",
    "print('ARDEHALI ideal expectation value for four qubits ',ardehali_exp2)\n",
    "print('ARDEHALI ideal expectation value for five qubits ',ardehali_exp3)"
   ]
  },
  {
   "cell_type": "markdown",
   "id": "21fd4890-db79-40c8-9897-3decbde294f1",
   "metadata": {
    "papermill": {
     "duration": 0.109186,
     "end_time": "2022-05-24T09:01:08.284189",
     "exception": false,
     "start_time": "2022-05-24T09:01:08.175003",
     "status": "completed"
    },
    "tags": []
   },
   "source": [
    "## FOR MANILA"
   ]
  },
  {
   "cell_type": "code",
   "execution_count": 24,
   "id": "6854369e",
   "metadata": {
    "collapsed": false,
    "execution": {
     "iopub.execute_input": "2022-05-24T09:01:08.535373Z",
     "iopub.status.busy": "2022-05-24T09:01:08.534834Z",
     "iopub.status.idle": "2022-05-24T10:18:00.472156Z",
     "shell.execute_reply": "2022-05-24T10:18:00.470529Z"
    },
    "jupyter": {
     "outputs_hidden": false
    },
    "papermill": {
     "duration": 4612.069158,
     "end_time": "2022-05-24T10:18:00.475588",
     "exception": false,
     "start_time": "2022-05-24T09:01:08.406430",
     "status": "completed"
    },
    "pycharm": {
     "name": "#%%\n"
    },
    "tags": []
   },
   "outputs": [
    {
     "name": "stdout",
     "output_type": "stream",
     "text": [
      "\r",
      "Job Status: job is being validated"
     ]
    },
    {
     "name": "stdout",
     "output_type": "stream",
     "text": [
      "\r",
      "Job Status: job is queued (3)     "
     ]
    },
    {
     "name": "stdout",
     "output_type": "stream",
     "text": [
      "\r",
      "Job Status: job is queued (2)     "
     ]
    },
    {
     "name": "stdout",
     "output_type": "stream",
     "text": [
      "\r",
      "Job Status: job is queued (1)     "
     ]
    },
    {
     "name": "stdout",
     "output_type": "stream",
     "text": [
      "\r",
      "Job Status: job is actively running"
     ]
    },
    {
     "name": "stdout",
     "output_type": "stream",
     "text": [
      "\r",
      "Job Status: job has successfully run\n"
     ]
    },
    {
     "name": "stdout",
     "output_type": "stream",
     "text": [
      "\r",
      "Job Status: job is being validated"
     ]
    },
    {
     "name": "stdout",
     "output_type": "stream",
     "text": [
      "\r",
      "Job Status: job is queued (1)     "
     ]
    },
    {
     "name": "stdout",
     "output_type": "stream",
     "text": [
      "\r",
      "Job Status: job is actively running"
     ]
    },
    {
     "name": "stdout",
     "output_type": "stream",
     "text": [
      "\r",
      "Job Status: job has successfully run\n"
     ]
    },
    {
     "name": "stdout",
     "output_type": "stream",
     "text": [
      "\r",
      "Job Status: job is being validated"
     ]
    },
    {
     "name": "stdout",
     "output_type": "stream",
     "text": [
      "\r",
      "Job Status: job is queued (2)     "
     ]
    },
    {
     "name": "stdout",
     "output_type": "stream",
     "text": [
      "\r",
      "Job Status: job is queued (1)     "
     ]
    },
    {
     "name": "stdout",
     "output_type": "stream",
     "text": [
      "\r",
      "Job Status: job is queued (None)  "
     ]
    },
    {
     "name": "stdout",
     "output_type": "stream",
     "text": [
      "\r",
      "Job Status: job is actively running"
     ]
    },
    {
     "name": "stdout",
     "output_type": "stream",
     "text": [
      "\r",
      "Job Status: job has successfully run\n"
     ]
    },
    {
     "name": "stdout",
     "output_type": "stream",
     "text": [
      "\r",
      "Job Status: job is being validated"
     ]
    },
    {
     "name": "stdout",
     "output_type": "stream",
     "text": [
      "\r",
      "Job Status: job is queued (1)     "
     ]
    },
    {
     "name": "stdout",
     "output_type": "stream",
     "text": [
      "\r",
      "Job Status: job is actively running"
     ]
    },
    {
     "name": "stdout",
     "output_type": "stream",
     "text": [
      "\r",
      "Job Status: job has successfully run\n"
     ]
    },
    {
     "name": "stdout",
     "output_type": "stream",
     "text": [
      "\r",
      "Job Status: job is being validated"
     ]
    },
    {
     "name": "stdout",
     "output_type": "stream",
     "text": [
      "\r",
      "Job Status: job is queued (2)     "
     ]
    },
    {
     "name": "stdout",
     "output_type": "stream",
     "text": [
      "\r",
      "Job Status: job is queued (1)     "
     ]
    },
    {
     "name": "stdout",
     "output_type": "stream",
     "text": [
      "\r",
      "Job Status: job is actively running"
     ]
    },
    {
     "name": "stdout",
     "output_type": "stream",
     "text": [
      "\r",
      "Job Status: job has successfully run\n"
     ]
    },
    {
     "name": "stdout",
     "output_type": "stream",
     "text": [
      "\r",
      "Job Status: job is being validated"
     ]
    },
    {
     "name": "stdout",
     "output_type": "stream",
     "text": [
      "\r",
      "Job Status: job is queued (3)     "
     ]
    },
    {
     "name": "stdout",
     "output_type": "stream",
     "text": [
      "\r",
      "Job Status: job is queued (2)     "
     ]
    },
    {
     "name": "stdout",
     "output_type": "stream",
     "text": [
      "\r",
      "Job Status: job is queued (1)     "
     ]
    },
    {
     "name": "stdout",
     "output_type": "stream",
     "text": [
      "\r",
      "Job Status: job is actively running"
     ]
    },
    {
     "name": "stdout",
     "output_type": "stream",
     "text": [
      "\r",
      "Job Status: job has successfully run\n"
     ]
    },
    {
     "name": "stdout",
     "output_type": "stream",
     "text": [
      "\r",
      "Job Status: job is being validated"
     ]
    },
    {
     "name": "stdout",
     "output_type": "stream",
     "text": [
      "\r",
      "Job Status: job is queued (3)     "
     ]
    },
    {
     "name": "stdout",
     "output_type": "stream",
     "text": [
      "\r",
      "Job Status: job is queued (2)     "
     ]
    },
    {
     "name": "stdout",
     "output_type": "stream",
     "text": [
      "\r",
      "Job Status: job is queued (1)     "
     ]
    },
    {
     "name": "stdout",
     "output_type": "stream",
     "text": [
      "\r",
      "Job Status: job is actively running"
     ]
    },
    {
     "name": "stdout",
     "output_type": "stream",
     "text": [
      "\r",
      "Job Status: job has successfully run\n"
     ]
    },
    {
     "name": "stdout",
     "output_type": "stream",
     "text": [
      "\r",
      "Job Status: job is being validated"
     ]
    },
    {
     "name": "stdout",
     "output_type": "stream",
     "text": [
      "\r",
      "Job Status: job is queued (5)     "
     ]
    },
    {
     "name": "stdout",
     "output_type": "stream",
     "text": [
      "\r",
      "Job Status: job is queued (4)     "
     ]
    },
    {
     "name": "stdout",
     "output_type": "stream",
     "text": [
      "\r",
      "Job Status: job is queued (3)     "
     ]
    },
    {
     "name": "stdout",
     "output_type": "stream",
     "text": [
      "\r",
      "Job Status: job is queued (2)     "
     ]
    },
    {
     "name": "stdout",
     "output_type": "stream",
     "text": [
      "\r",
      "Job Status: job is queued (1)     "
     ]
    },
    {
     "name": "stdout",
     "output_type": "stream",
     "text": [
      "\r",
      "Job Status: job is actively running"
     ]
    },
    {
     "name": "stdout",
     "output_type": "stream",
     "text": [
      "\r",
      "Job Status: job has successfully run\n"
     ]
    },
    {
     "name": "stdout",
     "output_type": "stream",
     "text": [
      "\r",
      "Job Status: job is being validated"
     ]
    },
    {
     "name": "stdout",
     "output_type": "stream",
     "text": [
      "\r",
      "Job Status: job is queued (2)     "
     ]
    },
    {
     "name": "stdout",
     "output_type": "stream",
     "text": [
      "\r",
      "Job Status: job is queued (1)     "
     ]
    },
    {
     "name": "stdout",
     "output_type": "stream",
     "text": [
      "\r",
      "Job Status: job is actively running"
     ]
    },
    {
     "name": "stdout",
     "output_type": "stream",
     "text": [
      "\r",
      "Job Status: job has successfully run\n"
     ]
    },
    {
     "name": "stdout",
     "output_type": "stream",
     "text": [
      "\r",
      "Job Status: job is being validated"
     ]
    },
    {
     "name": "stdout",
     "output_type": "stream",
     "text": [
      "\r",
      "Job Status: job is queued (2)     "
     ]
    },
    {
     "name": "stdout",
     "output_type": "stream",
     "text": [
      "\r",
      "Job Status: job is queued (1)     "
     ]
    },
    {
     "name": "stdout",
     "output_type": "stream",
     "text": [
      "\r",
      "Job Status: job is actively running"
     ]
    },
    {
     "name": "stdout",
     "output_type": "stream",
     "text": [
      "\r",
      "Job Status: job has successfully run\n"
     ]
    },
    {
     "name": "stdout",
     "output_type": "stream",
     "text": [
      "\r",
      "Job Status: job is being validated"
     ]
    },
    {
     "name": "stdout",
     "output_type": "stream",
     "text": [
      "\r",
      "Job Status: job is queued (3)     "
     ]
    },
    {
     "name": "stdout",
     "output_type": "stream",
     "text": [
      "\r",
      "Job Status: job is queued (2)     "
     ]
    },
    {
     "name": "stdout",
     "output_type": "stream",
     "text": [
      "\r",
      "Job Status: job is queued (1)     "
     ]
    },
    {
     "name": "stdout",
     "output_type": "stream",
     "text": [
      "\r",
      "Job Status: job is actively running"
     ]
    },
    {
     "name": "stdout",
     "output_type": "stream",
     "text": [
      "\r",
      "Job Status: job has successfully run\n"
     ]
    },
    {
     "name": "stdout",
     "output_type": "stream",
     "text": [
      "\r",
      "Job Status: job is being validated"
     ]
    },
    {
     "name": "stdout",
     "output_type": "stream",
     "text": [
      "\r",
      "Job Status: job is queued (3)     "
     ]
    },
    {
     "name": "stdout",
     "output_type": "stream",
     "text": [
      "\r",
      "Job Status: job is queued (2)     "
     ]
    },
    {
     "name": "stdout",
     "output_type": "stream",
     "text": [
      "\r",
      "Job Status: job is queued (1)     "
     ]
    },
    {
     "name": "stdout",
     "output_type": "stream",
     "text": [
      "\r",
      "Job Status: job is actively running"
     ]
    },
    {
     "name": "stdout",
     "output_type": "stream",
     "text": [
      "\r",
      "Job Status: job has successfully run\n"
     ]
    },
    {
     "name": "stdout",
     "output_type": "stream",
     "text": [
      "\r",
      "Job Status: job is being validated"
     ]
    },
    {
     "name": "stdout",
     "output_type": "stream",
     "text": [
      "\r",
      "Job Status: job is queued (2)     "
     ]
    },
    {
     "name": "stdout",
     "output_type": "stream",
     "text": [
      "\r",
      "Job Status: job is queued (1)     "
     ]
    },
    {
     "name": "stdout",
     "output_type": "stream",
     "text": [
      "\r",
      "Job Status: job is actively running"
     ]
    },
    {
     "name": "stdout",
     "output_type": "stream",
     "text": [
      "\r",
      "Job Status: job has successfully run\n"
     ]
    },
    {
     "name": "stdout",
     "output_type": "stream",
     "text": [
      "\r",
      "Job Status: job is being validated"
     ]
    },
    {
     "name": "stdout",
     "output_type": "stream",
     "text": [
      "\r",
      "Job Status: job is queued (1)     "
     ]
    },
    {
     "name": "stdout",
     "output_type": "stream",
     "text": [
      "\r",
      "Job Status: job is actively running"
     ]
    },
    {
     "name": "stdout",
     "output_type": "stream",
     "text": [
      "\r",
      "Job Status: job has successfully run\n"
     ]
    },
    {
     "name": "stdout",
     "output_type": "stream",
     "text": [
      "\r",
      "Job Status: job is being validated"
     ]
    },
    {
     "name": "stdout",
     "output_type": "stream",
     "text": [
      "\r",
      "Job Status: job is queued (4)     "
     ]
    },
    {
     "name": "stdout",
     "output_type": "stream",
     "text": [
      "\r",
      "Job Status: job is queued (3)     "
     ]
    },
    {
     "name": "stdout",
     "output_type": "stream",
     "text": [
      "\r",
      "Job Status: job is queued (2)     "
     ]
    },
    {
     "name": "stdout",
     "output_type": "stream",
     "text": [
      "\r",
      "Job Status: job is queued (1)     "
     ]
    },
    {
     "name": "stdout",
     "output_type": "stream",
     "text": [
      "\r",
      "Job Status: job is actively running"
     ]
    },
    {
     "name": "stdout",
     "output_type": "stream",
     "text": [
      "\r",
      "Job Status: job has successfully run\n"
     ]
    },
    {
     "name": "stdout",
     "output_type": "stream",
     "text": [
      "\r",
      "Job Status: job is being validated"
     ]
    },
    {
     "name": "stdout",
     "output_type": "stream",
     "text": [
      "\r",
      "Job Status: job is queued (1)     "
     ]
    },
    {
     "name": "stdout",
     "output_type": "stream",
     "text": [
      "\r",
      "Job Status: job is actively running"
     ]
    },
    {
     "name": "stdout",
     "output_type": "stream",
     "text": [
      "\r",
      "Job Status: job has successfully run\n"
     ]
    },
    {
     "name": "stdout",
     "output_type": "stream",
     "text": [
      "\r",
      "Job Status: job is being validated"
     ]
    },
    {
     "name": "stdout",
     "output_type": "stream",
     "text": [
      "\r",
      "Job Status: job is queued (2)     "
     ]
    },
    {
     "name": "stdout",
     "output_type": "stream",
     "text": [
      "\r",
      "Job Status: job is queued (1)     "
     ]
    },
    {
     "name": "stdout",
     "output_type": "stream",
     "text": [
      "\r",
      "Job Status: job is actively running"
     ]
    },
    {
     "name": "stdout",
     "output_type": "stream",
     "text": [
      "\r",
      "Job Status: job has successfully run\n"
     ]
    },
    {
     "name": "stdout",
     "output_type": "stream",
     "text": [
      "\r",
      "Job Status: job is being validated"
     ]
    },
    {
     "name": "stdout",
     "output_type": "stream",
     "text": [
      "\r",
      "Job Status: job is queued (3)     "
     ]
    },
    {
     "name": "stdout",
     "output_type": "stream",
     "text": [
      "\r",
      "Job Status: job is queued (2)     "
     ]
    },
    {
     "name": "stdout",
     "output_type": "stream",
     "text": [
      "\r",
      "Job Status: job is queued (1)     "
     ]
    },
    {
     "name": "stdout",
     "output_type": "stream",
     "text": [
      "\r",
      "Job Status: job is actively running"
     ]
    },
    {
     "name": "stdout",
     "output_type": "stream",
     "text": [
      "\r",
      "Job Status: job has successfully run\n"
     ]
    },
    {
     "name": "stdout",
     "output_type": "stream",
     "text": [
      "\r",
      "Job Status: job is being validated"
     ]
    },
    {
     "name": "stdout",
     "output_type": "stream",
     "text": [
      "\r",
      "Job Status: job is queued (2)     "
     ]
    },
    {
     "name": "stdout",
     "output_type": "stream",
     "text": [
      "\r",
      "Job Status: job is queued (1)     "
     ]
    },
    {
     "name": "stdout",
     "output_type": "stream",
     "text": [
      "\r",
      "Job Status: job is actively running"
     ]
    },
    {
     "name": "stdout",
     "output_type": "stream",
     "text": [
      "\r",
      "Job Status: job has successfully run\n"
     ]
    },
    {
     "name": "stdout",
     "output_type": "stream",
     "text": [
      "\r",
      "Job Status: job is being validated"
     ]
    },
    {
     "name": "stdout",
     "output_type": "stream",
     "text": [
      "\r",
      "Job Status: job is queued (1)     "
     ]
    },
    {
     "name": "stdout",
     "output_type": "stream",
     "text": [
      "\r",
      "Job Status: job is actively running"
     ]
    },
    {
     "name": "stdout",
     "output_type": "stream",
     "text": [
      "\r",
      "Job Status: job has successfully run\n"
     ]
    },
    {
     "name": "stdout",
     "output_type": "stream",
     "text": [
      "\r",
      "Job Status: job is being validated"
     ]
    },
    {
     "name": "stdout",
     "output_type": "stream",
     "text": [
      "\r",
      "Job Status: job is queued (2)     "
     ]
    },
    {
     "name": "stdout",
     "output_type": "stream",
     "text": [
      "\r",
      "Job Status: job is queued (1)     "
     ]
    },
    {
     "name": "stdout",
     "output_type": "stream",
     "text": [
      "\r",
      "Job Status: job is actively running"
     ]
    },
    {
     "name": "stdout",
     "output_type": "stream",
     "text": [
      "\r",
      "Job Status: job has successfully run\n"
     ]
    },
    {
     "name": "stdout",
     "output_type": "stream",
     "text": [
      "\r",
      "Job Status: job is being validated"
     ]
    },
    {
     "name": "stdout",
     "output_type": "stream",
     "text": [
      "\r",
      "Job Status: job is queued (1)     "
     ]
    },
    {
     "name": "stdout",
     "output_type": "stream",
     "text": [
      "\r",
      "Job Status: job is actively running"
     ]
    },
    {
     "name": "stdout",
     "output_type": "stream",
     "text": [
      "\r",
      "Job Status: job has successfully run\n"
     ]
    },
    {
     "name": "stdout",
     "output_type": "stream",
     "text": [
      "\r",
      "Job Status: job is being validated"
     ]
    },
    {
     "name": "stdout",
     "output_type": "stream",
     "text": [
      "\r",
      "Job Status: job is queued (2)     "
     ]
    },
    {
     "name": "stdout",
     "output_type": "stream",
     "text": [
      "\r",
      "Job Status: job is queued (1)     "
     ]
    },
    {
     "name": "stdout",
     "output_type": "stream",
     "text": [
      "\r",
      "Job Status: job is actively running"
     ]
    },
    {
     "name": "stdout",
     "output_type": "stream",
     "text": [
      "\r",
      "Job Status: job has successfully run\n"
     ]
    },
    {
     "name": "stdout",
     "output_type": "stream",
     "text": [
      "\r",
      "Job Status: job is being validated"
     ]
    },
    {
     "name": "stdout",
     "output_type": "stream",
     "text": [
      "\r",
      "Job Status: job is queued (2)     "
     ]
    },
    {
     "name": "stdout",
     "output_type": "stream",
     "text": [
      "\r",
      "Job Status: job is queued (1)     "
     ]
    },
    {
     "name": "stdout",
     "output_type": "stream",
     "text": [
      "\r",
      "Job Status: job is actively running"
     ]
    },
    {
     "name": "stdout",
     "output_type": "stream",
     "text": [
      "\r",
      "Job Status: job has successfully run\n"
     ]
    },
    {
     "name": "stdout",
     "output_type": "stream",
     "text": [
      "\r",
      "Job Status: job is being validated"
     ]
    },
    {
     "name": "stdout",
     "output_type": "stream",
     "text": [
      "\r",
      "Job Status: job is queued (2)     "
     ]
    },
    {
     "name": "stdout",
     "output_type": "stream",
     "text": [
      "\r",
      "Job Status: job is queued (1)     "
     ]
    },
    {
     "name": "stdout",
     "output_type": "stream",
     "text": [
      "\r",
      "Job Status: job is actively running"
     ]
    },
    {
     "name": "stdout",
     "output_type": "stream",
     "text": [
      "\r",
      "Job Status: job has successfully run\n"
     ]
    },
    {
     "name": "stdout",
     "output_type": "stream",
     "text": [
      "\r",
      "Job Status: job is being validated"
     ]
    },
    {
     "name": "stdout",
     "output_type": "stream",
     "text": [
      "\r",
      "Job Status: job is queued (3)     "
     ]
    },
    {
     "name": "stdout",
     "output_type": "stream",
     "text": [
      "\r",
      "Job Status: job is queued (2)     "
     ]
    },
    {
     "name": "stdout",
     "output_type": "stream",
     "text": [
      "\r",
      "Job Status: job is queued (1)     "
     ]
    },
    {
     "name": "stdout",
     "output_type": "stream",
     "text": [
      "\r",
      "Job Status: job is actively running"
     ]
    },
    {
     "name": "stdout",
     "output_type": "stream",
     "text": [
      "\r",
      "Job Status: job has successfully run\n"
     ]
    },
    {
     "name": "stdout",
     "output_type": "stream",
     "text": [
      "\r",
      "Job Status: job is being validated"
     ]
    },
    {
     "name": "stdout",
     "output_type": "stream",
     "text": [
      "\r",
      "Job Status: job is queued (5)     "
     ]
    },
    {
     "name": "stdout",
     "output_type": "stream",
     "text": [
      "\r",
      "Job Status: job is queued (4)     "
     ]
    },
    {
     "name": "stdout",
     "output_type": "stream",
     "text": [
      "\r",
      "Job Status: job is queued (3)     "
     ]
    },
    {
     "name": "stdout",
     "output_type": "stream",
     "text": [
      "\r",
      "Job Status: job is queued (2)     "
     ]
    },
    {
     "name": "stdout",
     "output_type": "stream",
     "text": [
      "\r",
      "Job Status: job is queued (1)     "
     ]
    },
    {
     "name": "stdout",
     "output_type": "stream",
     "text": [
      "\r",
      "Job Status: job is actively running"
     ]
    },
    {
     "name": "stdout",
     "output_type": "stream",
     "text": [
      "\r",
      "Job Status: job has successfully run\n"
     ]
    },
    {
     "name": "stdout",
     "output_type": "stream",
     "text": [
      "\r",
      "Job Status: job is being validated"
     ]
    },
    {
     "name": "stdout",
     "output_type": "stream",
     "text": [
      "\r",
      "Job Status: job is queued (2)     "
     ]
    },
    {
     "name": "stdout",
     "output_type": "stream",
     "text": [
      "\r",
      "Job Status: job is queued (1)     "
     ]
    },
    {
     "name": "stdout",
     "output_type": "stream",
     "text": [
      "\r",
      "Job Status: job is actively running"
     ]
    },
    {
     "name": "stdout",
     "output_type": "stream",
     "text": [
      "\r",
      "Job Status: job has successfully run\n"
     ]
    },
    {
     "name": "stdout",
     "output_type": "stream",
     "text": [
      "\r",
      "Job Status: job is being validated"
     ]
    },
    {
     "name": "stdout",
     "output_type": "stream",
     "text": [
      "\r",
      "Job Status: job is queued (2)     "
     ]
    },
    {
     "name": "stdout",
     "output_type": "stream",
     "text": [
      "\r",
      "Job Status: job is queued (1)     "
     ]
    },
    {
     "name": "stdout",
     "output_type": "stream",
     "text": [
      "\r",
      "Job Status: job is actively running"
     ]
    },
    {
     "name": "stdout",
     "output_type": "stream",
     "text": [
      "\r",
      "Job Status: job has successfully run\n"
     ]
    },
    {
     "name": "stdout",
     "output_type": "stream",
     "text": [
      "\r",
      "Job Status: job is being validated"
     ]
    },
    {
     "name": "stdout",
     "output_type": "stream",
     "text": [
      "\r",
      "Job Status: job is queued (1)     "
     ]
    },
    {
     "name": "stdout",
     "output_type": "stream",
     "text": [
      "\r",
      "Job Status: job is actively running"
     ]
    },
    {
     "name": "stdout",
     "output_type": "stream",
     "text": [
      "\r",
      "Job Status: job has successfully run\n"
     ]
    },
    {
     "name": "stdout",
     "output_type": "stream",
     "text": [
      "[[3.2728271484375, 3.29931640625, 3.3548583984375, 3.35546875, 3.3404541015625, 3.32373046875, 3.2685546875, 3.3414306640625, 3.31982421875, 3.3153076171875], [5.471923828125, 5.3638916015625, 5.5423583984375, 5.5064697265625, 5.5272216796875, 5.5458984375, 5.657470703125, 5.6220703125, 5.641357421875, 5.62255859375], [8.448486328125, 8.6671142578125, 8.9002685546875, 8.760498046875, 8.7939453125, 8.4219970703125, 8.2132568359375, 8.4815673828125, 8.23779296875, 7.9434814453125]]\n"
     ]
    }
   ],
   "source": [
    "shots=16384\n",
    "circuit_arr = [mermin1,mermin2,mermin3]\n",
    "state_arr =  [states_three,states_four,states_five]\n",
    "coeff_arr = [mermin_coeff1,mermin_coeff2,mermin_coeff3]\n",
    "\"\"\"\n",
    "m_real1= device_run(manila,shots,mermin1)\n",
    "m_exp1 = expectation(m_real1,shots,states_three,mermin_coeff1)\n",
    "m_real2 = device_run(manila,shots2,mermin2)\n",
    "m_exp2 = expectation(m_real2,shots2,states_four,mermin_coeff2)\n",
    "m_real3 = device_run(manila,shots2,mermin3)\n",
    "m_exp3 = expectation(m_real3,shots2,states_five,mermin_coeff3)\n",
    "\"\"\"\n",
    "real_arr = []\n",
    "for i in circuit_arr:\n",
    "    temp = []\n",
    "    for j in range(10):\n",
    "        real = device_run(manila,shots,i)\n",
    "        temp.append(real)\n",
    "    real_arr.append(temp)\n",
    "exp_arr1 = []\n",
    "for i in range(len(circuit_arr)):\n",
    "    temp = []\n",
    "    for j in (real_arr[i]):\n",
    "        exp = expectation(j,shots,state_arr[i],coeff_arr[i])\n",
    "        temp.append(exp)\n",
    "    exp_arr1.append(temp)\n",
    "print(exp_arr1)\n"
   ]
  },
  {
   "cell_type": "code",
   "execution_count": 25,
   "id": "7d46f903-e8a9-4de7-871c-4188f183c218",
   "metadata": {
    "execution": {
     "iopub.execute_input": "2022-05-24T10:18:00.759662Z",
     "iopub.status.busy": "2022-05-24T10:18:00.757847Z",
     "iopub.status.idle": "2022-05-24T10:18:00.773013Z",
     "shell.execute_reply": "2022-05-24T10:18:00.771579Z"
    },
    "papermill": {
     "duration": 0.15808,
     "end_time": "2022-05-24T10:18:00.776644",
     "exception": false,
     "start_time": "2022-05-24T10:18:00.618564",
     "status": "completed"
    },
    "tags": []
   },
   "outputs": [
    {
     "name": "stdout",
     "output_type": "stream",
     "text": [
      "3-qubit Error:  0.009820437570559604\n",
      "4-qubit Error:  0.028592158807743743\n",
      "5-qubit Error:  0.09489400390804535\n"
     ]
    }
   ],
   "source": [
    "import numpy as np\n",
    "error_3 = np.std(exp_arr1[0], ddof=1) / np.sqrt(np.size(exp_arr1[0]))\n",
    "print(\"3-qubit Error: \",error_3)\n",
    "error_4 = np.std(exp_arr1[1], ddof=1) / np.sqrt(np.size(exp_arr1[1]))\n",
    "print(\"4-qubit Error: \",error_4)\n",
    "error_5 = np.std(exp_arr1[2], ddof=1) / np.sqrt(np.size(exp_arr1[2]))\n",
    "print(\"5-qubit Error: \",error_5)"
   ]
  },
  {
   "cell_type": "code",
   "execution_count": 26,
   "id": "11c3de4f",
   "metadata": {
    "collapsed": false,
    "execution": {
     "iopub.execute_input": "2022-05-24T10:18:01.122669Z",
     "iopub.status.busy": "2022-05-24T10:18:01.122360Z",
     "iopub.status.idle": "2022-05-24T11:30:42.306889Z",
     "shell.execute_reply": "2022-05-24T11:30:42.305669Z"
    },
    "jupyter": {
     "outputs_hidden": false
    },
    "papermill": {
     "duration": 4361.351206,
     "end_time": "2022-05-24T11:30:42.308638",
     "exception": false,
     "start_time": "2022-05-24T10:18:00.957432",
     "status": "completed"
    },
    "pycharm": {
     "is_executing": true,
     "name": "#%%\n"
    },
    "tags": []
   },
   "outputs": [
    {
     "name": "stdout",
     "output_type": "stream",
     "text": [
      "\r",
      "Job Status: job is being validated"
     ]
    },
    {
     "name": "stdout",
     "output_type": "stream",
     "text": [
      "\r",
      "Job Status: job is queued (2)     "
     ]
    },
    {
     "name": "stdout",
     "output_type": "stream",
     "text": [
      "\r",
      "Job Status: job is queued (1)     "
     ]
    },
    {
     "name": "stdout",
     "output_type": "stream",
     "text": [
      "\r",
      "Job Status: job is actively running"
     ]
    },
    {
     "name": "stdout",
     "output_type": "stream",
     "text": [
      "\r",
      "Job Status: job has successfully run\n"
     ]
    },
    {
     "name": "stdout",
     "output_type": "stream",
     "text": [
      "\r",
      "Job Status: job is being validated"
     ]
    },
    {
     "name": "stdout",
     "output_type": "stream",
     "text": [
      "\r",
      "Job Status: job is queued (3)     "
     ]
    },
    {
     "name": "stdout",
     "output_type": "stream",
     "text": [
      "\r",
      "Job Status: job is queued (2)     "
     ]
    },
    {
     "name": "stdout",
     "output_type": "stream",
     "text": [
      "\r",
      "Job Status: job is queued (1)     "
     ]
    },
    {
     "name": "stdout",
     "output_type": "stream",
     "text": [
      "\r",
      "Job Status: job is actively running"
     ]
    },
    {
     "name": "stdout",
     "output_type": "stream",
     "text": [
      "\r",
      "Job Status: job has successfully run\n"
     ]
    },
    {
     "name": "stdout",
     "output_type": "stream",
     "text": [
      "\r",
      "Job Status: job is being validated"
     ]
    },
    {
     "name": "stdout",
     "output_type": "stream",
     "text": [
      "\r",
      "Job Status: job is queued (2)     "
     ]
    },
    {
     "name": "stdout",
     "output_type": "stream",
     "text": [
      "\r",
      "Job Status: job is queued (1)     "
     ]
    },
    {
     "name": "stdout",
     "output_type": "stream",
     "text": [
      "\r",
      "Job Status: job is actively running"
     ]
    },
    {
     "name": "stdout",
     "output_type": "stream",
     "text": [
      "\r",
      "Job Status: job has successfully run\n"
     ]
    },
    {
     "name": "stdout",
     "output_type": "stream",
     "text": [
      "\r",
      "Job Status: job is being validated"
     ]
    },
    {
     "name": "stdout",
     "output_type": "stream",
     "text": [
      "\r",
      "Job Status: job is queued (1)     "
     ]
    },
    {
     "name": "stdout",
     "output_type": "stream",
     "text": [
      "\r",
      "Job Status: job is actively running"
     ]
    },
    {
     "name": "stdout",
     "output_type": "stream",
     "text": [
      "\r",
      "Job Status: job has successfully run\n"
     ]
    },
    {
     "name": "stdout",
     "output_type": "stream",
     "text": [
      "\r",
      "Job Status: job is being validated"
     ]
    },
    {
     "name": "stdout",
     "output_type": "stream",
     "text": [
      "\r",
      "Job Status: job is queued (2)     "
     ]
    },
    {
     "name": "stdout",
     "output_type": "stream",
     "text": [
      "\r",
      "Job Status: job is queued (1)     "
     ]
    },
    {
     "name": "stdout",
     "output_type": "stream",
     "text": [
      "\r",
      "Job Status: job is actively running"
     ]
    },
    {
     "name": "stdout",
     "output_type": "stream",
     "text": [
      "\r",
      "Job Status: job has successfully run\n"
     ]
    },
    {
     "name": "stdout",
     "output_type": "stream",
     "text": [
      "\r",
      "Job Status: job is being validated"
     ]
    },
    {
     "name": "stdout",
     "output_type": "stream",
     "text": [
      "\r",
      "Job Status: job is queued (2)     "
     ]
    },
    {
     "name": "stdout",
     "output_type": "stream",
     "text": [
      "\r",
      "Job Status: job is queued (1)     "
     ]
    },
    {
     "name": "stdout",
     "output_type": "stream",
     "text": [
      "\r",
      "Job Status: job is actively running"
     ]
    },
    {
     "name": "stdout",
     "output_type": "stream",
     "text": [
      "\r",
      "Job Status: job has successfully run\n"
     ]
    },
    {
     "name": "stdout",
     "output_type": "stream",
     "text": [
      "\r",
      "Job Status: job is being validated"
     ]
    },
    {
     "name": "stdout",
     "output_type": "stream",
     "text": [
      "\r",
      "Job Status: job is queued (2)     "
     ]
    },
    {
     "name": "stdout",
     "output_type": "stream",
     "text": [
      "\r",
      "Job Status: job is queued (1)     "
     ]
    },
    {
     "name": "stdout",
     "output_type": "stream",
     "text": [
      "\r",
      "Job Status: job is actively running"
     ]
    },
    {
     "name": "stdout",
     "output_type": "stream",
     "text": [
      "\r",
      "Job Status: job has successfully run\n"
     ]
    },
    {
     "name": "stdout",
     "output_type": "stream",
     "text": [
      "\r",
      "Job Status: job is being validated"
     ]
    },
    {
     "name": "stdout",
     "output_type": "stream",
     "text": [
      "\r",
      "Job Status: job is actively running"
     ]
    },
    {
     "name": "stdout",
     "output_type": "stream",
     "text": [
      "\r",
      "Job Status: job has successfully run\n"
     ]
    },
    {
     "name": "stdout",
     "output_type": "stream",
     "text": [
      "\r",
      "Job Status: job is being validated"
     ]
    },
    {
     "name": "stdout",
     "output_type": "stream",
     "text": [
      "\r",
      "Job Status: job is queued (2)     "
     ]
    },
    {
     "name": "stdout",
     "output_type": "stream",
     "text": [
      "\r",
      "Job Status: job is queued (1)     "
     ]
    },
    {
     "name": "stdout",
     "output_type": "stream",
     "text": [
      "\r",
      "Job Status: job is actively running"
     ]
    },
    {
     "name": "stdout",
     "output_type": "stream",
     "text": [
      "\r",
      "Job Status: job has successfully run\n"
     ]
    },
    {
     "name": "stdout",
     "output_type": "stream",
     "text": [
      "\r",
      "Job Status: job is being validated"
     ]
    },
    {
     "name": "stdout",
     "output_type": "stream",
     "text": [
      "\r",
      "Job Status: job is actively running"
     ]
    },
    {
     "name": "stdout",
     "output_type": "stream",
     "text": [
      "\r",
      "Job Status: job has successfully run\n"
     ]
    },
    {
     "name": "stdout",
     "output_type": "stream",
     "text": [
      "\r",
      "Job Status: job is being validated"
     ]
    },
    {
     "name": "stdout",
     "output_type": "stream",
     "text": [
      "\r",
      "Job Status: job is actively running"
     ]
    },
    {
     "name": "stdout",
     "output_type": "stream",
     "text": [
      "\r",
      "Job Status: job has successfully run\n"
     ]
    },
    {
     "name": "stdout",
     "output_type": "stream",
     "text": [
      "\r",
      "Job Status: job is being validated"
     ]
    },
    {
     "name": "stdout",
     "output_type": "stream",
     "text": [
      "\r",
      "Job Status: job is actively running"
     ]
    },
    {
     "name": "stdout",
     "output_type": "stream",
     "text": [
      "\r",
      "Job Status: job has successfully run\n"
     ]
    },
    {
     "name": "stdout",
     "output_type": "stream",
     "text": [
      "\r",
      "Job Status: job is being validated"
     ]
    },
    {
     "name": "stdout",
     "output_type": "stream",
     "text": [
      "\r",
      "Job Status: job is queued (None)  "
     ]
    },
    {
     "name": "stdout",
     "output_type": "stream",
     "text": [
      "\r",
      "Job Status: job is actively running"
     ]
    },
    {
     "name": "stdout",
     "output_type": "stream",
     "text": [
      "\r",
      "Job Status: job has successfully run\n"
     ]
    },
    {
     "name": "stdout",
     "output_type": "stream",
     "text": [
      "\r",
      "Job Status: job is being validated"
     ]
    },
    {
     "name": "stdout",
     "output_type": "stream",
     "text": [
      "\r",
      "Job Status: job is queued (1)     "
     ]
    },
    {
     "name": "stdout",
     "output_type": "stream",
     "text": [
      "\r",
      "Job Status: job is actively running"
     ]
    },
    {
     "name": "stdout",
     "output_type": "stream",
     "text": [
      "\r",
      "Job Status: job has successfully run\n"
     ]
    },
    {
     "name": "stdout",
     "output_type": "stream",
     "text": [
      "\r",
      "Job Status: job is being validated"
     ]
    },
    {
     "name": "stdout",
     "output_type": "stream",
     "text": [
      "\r",
      "Job Status: job is actively running"
     ]
    },
    {
     "name": "stdout",
     "output_type": "stream",
     "text": [
      "\r",
      "Job Status: job has successfully run\n"
     ]
    },
    {
     "name": "stdout",
     "output_type": "stream",
     "text": [
      "\r",
      "Job Status: job is being validated"
     ]
    },
    {
     "name": "stdout",
     "output_type": "stream",
     "text": [
      "\r",
      "Job Status: job is actively running"
     ]
    },
    {
     "name": "stdout",
     "output_type": "stream",
     "text": [
      "\r",
      "Job Status: job has successfully run\n"
     ]
    },
    {
     "name": "stdout",
     "output_type": "stream",
     "text": [
      "\r",
      "Job Status: job is being validated"
     ]
    },
    {
     "name": "stdout",
     "output_type": "stream",
     "text": [
      "\r",
      "Job Status: job is queued (1)     "
     ]
    },
    {
     "name": "stdout",
     "output_type": "stream",
     "text": [
      "\r",
      "Job Status: job is actively running"
     ]
    },
    {
     "name": "stdout",
     "output_type": "stream",
     "text": [
      "\r",
      "Job Status: job has successfully run\n"
     ]
    },
    {
     "name": "stdout",
     "output_type": "stream",
     "text": [
      "\r",
      "Job Status: job is being validated"
     ]
    },
    {
     "name": "stdout",
     "output_type": "stream",
     "text": [
      "\r",
      "Job Status: job is queued (1)     "
     ]
    },
    {
     "name": "stdout",
     "output_type": "stream",
     "text": [
      "\r",
      "Job Status: job is actively running"
     ]
    },
    {
     "name": "stdout",
     "output_type": "stream",
     "text": [
      "\r",
      "Job Status: job has successfully run\n"
     ]
    },
    {
     "name": "stdout",
     "output_type": "stream",
     "text": [
      "\r",
      "Job Status: job is being validated"
     ]
    },
    {
     "name": "stdout",
     "output_type": "stream",
     "text": [
      "\r",
      "Job Status: job is actively running"
     ]
    },
    {
     "name": "stdout",
     "output_type": "stream",
     "text": [
      "\r",
      "Job Status: job has successfully run\n"
     ]
    },
    {
     "name": "stdout",
     "output_type": "stream",
     "text": [
      "\r",
      "Job Status: job is being validated"
     ]
    },
    {
     "name": "stdout",
     "output_type": "stream",
     "text": [
      "\r",
      "Job Status: job is actively running"
     ]
    },
    {
     "name": "stdout",
     "output_type": "stream",
     "text": [
      "\r",
      "Job Status: job has successfully run\n"
     ]
    },
    {
     "name": "stdout",
     "output_type": "stream",
     "text": [
      "\r",
      "Job Status: job is being validated"
     ]
    },
    {
     "name": "stdout",
     "output_type": "stream",
     "text": [
      "\r",
      "Job Status: job is actively running"
     ]
    },
    {
     "name": "stdout",
     "output_type": "stream",
     "text": [
      "\r",
      "Job Status: job has successfully run\n"
     ]
    },
    {
     "name": "stdout",
     "output_type": "stream",
     "text": [
      "\r",
      "Job Status: job is being validated"
     ]
    },
    {
     "name": "stdout",
     "output_type": "stream",
     "text": [
      "\r",
      "Job Status: job is queued (1)     "
     ]
    },
    {
     "name": "stdout",
     "output_type": "stream",
     "text": [
      "\r",
      "Job Status: job is actively running"
     ]
    },
    {
     "name": "stdout",
     "output_type": "stream",
     "text": [
      "\r",
      "Job Status: job has successfully run\n"
     ]
    },
    {
     "name": "stdout",
     "output_type": "stream",
     "text": [
      "\r",
      "Job Status: job is being validated"
     ]
    },
    {
     "name": "stdout",
     "output_type": "stream",
     "text": [
      "\r",
      "Job Status: job is queued (1)     "
     ]
    },
    {
     "name": "stdout",
     "output_type": "stream",
     "text": [
      "\r",
      "Job Status: job is actively running"
     ]
    },
    {
     "name": "stdout",
     "output_type": "stream",
     "text": [
      "\r",
      "Job Status: job has successfully run\n"
     ]
    },
    {
     "name": "stdout",
     "output_type": "stream",
     "text": [
      "\r",
      "Job Status: job is being validated"
     ]
    },
    {
     "name": "stdout",
     "output_type": "stream",
     "text": [
      "\r",
      "Job Status: job is queued (1)     "
     ]
    },
    {
     "name": "stdout",
     "output_type": "stream",
     "text": [
      "\r",
      "Job Status: job is actively running"
     ]
    },
    {
     "name": "stdout",
     "output_type": "stream",
     "text": [
      "\r",
      "Job Status: job has successfully run\n"
     ]
    },
    {
     "name": "stdout",
     "output_type": "stream",
     "text": [
      "\r",
      "Job Status: job is being validated"
     ]
    },
    {
     "name": "stdout",
     "output_type": "stream",
     "text": [
      "\r",
      "Job Status: job is queued (2)     "
     ]
    },
    {
     "name": "stdout",
     "output_type": "stream",
     "text": [
      "\r",
      "Job Status: job is queued (1)     "
     ]
    },
    {
     "name": "stdout",
     "output_type": "stream",
     "text": [
      "\r",
      "Job Status: job is actively running"
     ]
    },
    {
     "name": "stdout",
     "output_type": "stream",
     "text": [
      "\r",
      "Job Status: job has successfully run\n"
     ]
    },
    {
     "name": "stdout",
     "output_type": "stream",
     "text": [
      "\r",
      "Job Status: job is being validated"
     ]
    },
    {
     "name": "stdout",
     "output_type": "stream",
     "text": [
      "\r",
      "Job Status: job is queued (2)     "
     ]
    },
    {
     "name": "stdout",
     "output_type": "stream",
     "text": [
      "\r",
      "Job Status: job is queued (1)     "
     ]
    },
    {
     "name": "stdout",
     "output_type": "stream",
     "text": [
      "\r",
      "Job Status: job is actively running"
     ]
    },
    {
     "name": "stdout",
     "output_type": "stream",
     "text": [
      "\r",
      "Job Status: job has successfully run\n"
     ]
    },
    {
     "name": "stdout",
     "output_type": "stream",
     "text": [
      "\r",
      "Job Status: job is being validated"
     ]
    },
    {
     "name": "stdout",
     "output_type": "stream",
     "text": [
      "\r",
      "Job Status: job is queued (5)     "
     ]
    },
    {
     "name": "stdout",
     "output_type": "stream",
     "text": [
      "\r",
      "Job Status: job is queued (4)     "
     ]
    },
    {
     "name": "stdout",
     "output_type": "stream",
     "text": [
      "\r",
      "Job Status: job is queued (3)     "
     ]
    },
    {
     "name": "stdout",
     "output_type": "stream",
     "text": [
      "\r",
      "Job Status: job is queued (2)     "
     ]
    },
    {
     "name": "stdout",
     "output_type": "stream",
     "text": [
      "\r",
      "Job Status: job is queued (1)     "
     ]
    },
    {
     "name": "stdout",
     "output_type": "stream",
     "text": [
      "\r",
      "Job Status: job is actively running"
     ]
    },
    {
     "name": "stdout",
     "output_type": "stream",
     "text": [
      "\r",
      "Job Status: job has successfully run\n"
     ]
    },
    {
     "name": "stdout",
     "output_type": "stream",
     "text": [
      "\r",
      "Job Status: job is being validated"
     ]
    },
    {
     "name": "stdout",
     "output_type": "stream",
     "text": [
      "\r",
      "Job Status: job is queued (2)     "
     ]
    },
    {
     "name": "stdout",
     "output_type": "stream",
     "text": [
      "\r",
      "Job Status: job is queued (1)     "
     ]
    },
    {
     "name": "stdout",
     "output_type": "stream",
     "text": [
      "\r",
      "Job Status: job is actively running"
     ]
    },
    {
     "name": "stdout",
     "output_type": "stream",
     "text": [
      "\r",
      "Job Status: job has successfully run\n"
     ]
    },
    {
     "name": "stdout",
     "output_type": "stream",
     "text": [
      "\r",
      "Job Status: job is being validated"
     ]
    },
    {
     "name": "stdout",
     "output_type": "stream",
     "text": [
      "\r",
      "Job Status: job is queued (1)     "
     ]
    },
    {
     "name": "stdout",
     "output_type": "stream",
     "text": [
      "\r",
      "Job Status: job is actively running"
     ]
    },
    {
     "name": "stdout",
     "output_type": "stream",
     "text": [
      "\r",
      "Job Status: job has successfully run\n"
     ]
    },
    {
     "name": "stdout",
     "output_type": "stream",
     "text": [
      "\r",
      "Job Status: job is being validated"
     ]
    },
    {
     "name": "stdout",
     "output_type": "stream",
     "text": [
      "\r",
      "Job Status: job is queued (2)     "
     ]
    },
    {
     "name": "stdout",
     "output_type": "stream",
     "text": [
      "\r",
      "Job Status: job is queued (1)     "
     ]
    },
    {
     "name": "stdout",
     "output_type": "stream",
     "text": [
      "\r",
      "Job Status: job is actively running"
     ]
    },
    {
     "name": "stdout",
     "output_type": "stream",
     "text": [
      "\r",
      "Job Status: job has successfully run\n"
     ]
    },
    {
     "name": "stdout",
     "output_type": "stream",
     "text": [
      "[[4.6578369140625, 4.683349609375, 4.640869140625, 4.664306640625, 4.712158203125, 4.6328125, 4.592041015625, 4.6201171875, 4.63720703125, 4.623291015625], [7.5594482421875, 7.6544189453125, 7.802978515625, 7.7569580078125, 7.89453125, 7.873291015625, 7.71484375, 7.734619140625, 7.700927734375, 7.722412109375], [11.0234375, 11.1649169921875, 11.5888671875, 11.881103515625, 12.184326171875, 12.4088134765625, 11.57080078125, 11.544921875, 10.833740234375, 10.987548828125]]\n"
     ]
    }
   ],
   "source": [
    "shots=16384\n",
    "\"\"\"\n",
    "a_real1= device_run(manila,shots,ardehali1)\n",
    "a_exp1 = expectation(a_real1,shots,states_three,ardehali_coeff1)\n",
    "a_real2 = device_run(manila,shots,ardehali2)\n",
    "a_exp2 = expectation(a_real2,shots,states_four,ardehali_coeff2)\n",
    "a_real3 = device_run(manila,shots,ardehali3)\n",
    "a_exp3 = expectation(a_real3,shots,states_five,ardehali_coeff3)\n",
    "\"\"\"\n",
    "circuit_arr = [ardehali1,ardehali2,ardehali3]\n",
    "state_arr =  [states_three,states_four,states_five]\n",
    "coeff_arr = [ardehali_coeff1,ardehali_coeff2,ardehali_coeff3]\n",
    "real_arr = []\n",
    "for i in circuit_arr:\n",
    "    temp = []\n",
    "    for j in range(10):\n",
    "        real = device_run(manila,shots,i)\n",
    "        temp.append(real)\n",
    "    real_arr.append(temp)\n",
    "exp_arr2 = []\n",
    "for i in range(len(circuit_arr)):\n",
    "    temp = []\n",
    "    for j in (real_arr[i]):\n",
    "        exp = expectation(j,shots,state_arr[i],coeff_arr[i])\n",
    "        temp.append(exp)\n",
    "    exp_arr2.append(temp)\n",
    "print(exp_arr2)\n"
   ]
  },
  {
   "cell_type": "code",
   "execution_count": 27,
   "id": "0d4ca753-6534-4468-8fda-f212d7bbc09a",
   "metadata": {
    "execution": {
     "iopub.execute_input": "2022-05-24T11:30:42.702496Z",
     "iopub.status.busy": "2022-05-24T11:30:42.701857Z",
     "iopub.status.idle": "2022-05-24T11:30:42.719787Z",
     "shell.execute_reply": "2022-05-24T11:30:42.718474Z"
    },
    "papermill": {
     "duration": 0.230729,
     "end_time": "2022-05-24T11:30:42.722794",
     "exception": false,
     "start_time": "2022-05-24T11:30:42.492065",
     "status": "completed"
    },
    "tags": []
   },
   "outputs": [
    {
     "name": "stdout",
     "output_type": "stream",
     "text": [
      "3-qubit Error:  0.010862932636340502\n",
      "4-qubit Error:  0.031322741353751966\n",
      "5-qubit Error:  0.16655865208942705\n"
     ]
    }
   ],
   "source": [
    "import numpy as np\n",
    "error_3 = np.std(exp_arr2[0], ddof=1) / np.sqrt(np.size(exp_arr2[0]))\n",
    "print(\"3-qubit Error: \",error_3)\n",
    "error_4 = np.std(exp_arr2[1], ddof=1) / np.sqrt(np.size(exp_arr2[1]))\n",
    "print(\"4-qubit Error: \",error_4)\n",
    "error_5 = np.std(exp_arr2[2], ddof=1) / np.sqrt(np.size(exp_arr2[2]))\n",
    "print(\"5-qubit Error: \",error_5)"
   ]
  },
  {
   "cell_type": "markdown",
   "id": "48f9736e-4c54-4199-af34-f1873205ffde",
   "metadata": {
    "papermill": {
     "duration": 0.162151,
     "end_time": "2022-05-24T11:30:43.037322",
     "exception": false,
     "start_time": "2022-05-24T11:30:42.875171",
     "status": "completed"
    },
    "tags": []
   },
   "source": [
    "## For Quito"
   ]
  },
  {
   "cell_type": "code",
   "execution_count": 28,
   "id": "69fd20d0-1eac-4a72-b551-f2a40202bd54",
   "metadata": {
    "execution": {
     "iopub.execute_input": "2022-05-24T11:30:43.364934Z",
     "iopub.status.busy": "2022-05-24T11:30:43.364354Z",
     "iopub.status.idle": "2022-05-24T13:23:13.657446Z",
     "shell.execute_reply": "2022-05-24T13:23:13.655191Z"
    },
    "papermill": {
     "duration": 6750.628338,
     "end_time": "2022-05-24T13:23:13.825528",
     "exception": true,
     "start_time": "2022-05-24T11:30:43.197190",
     "status": "failed"
    },
    "tags": []
   },
   "outputs": [
    {
     "name": "stdout",
     "output_type": "stream",
     "text": [
      "\r",
      "Job Status: job is being validated"
     ]
    },
    {
     "name": "stdout",
     "output_type": "stream",
     "text": [
      "\r",
      "Job Status: job is queued (13)    "
     ]
    },
    {
     "name": "stdout",
     "output_type": "stream",
     "text": [
      "\r",
      "Job Status: job is queued (12)    "
     ]
    },
    {
     "name": "stdout",
     "output_type": "stream",
     "text": [
      "\r",
      "Job Status: job is queued (11)    "
     ]
    },
    {
     "name": "stdout",
     "output_type": "stream",
     "text": [
      "\r",
      "Job Status: job is queued (10)    "
     ]
    },
    {
     "name": "stdout",
     "output_type": "stream",
     "text": [
      "\r",
      "Job Status: job is queued (8)     "
     ]
    },
    {
     "name": "stdout",
     "output_type": "stream",
     "text": [
      "\r",
      "Job Status: job is queued (6)     "
     ]
    },
    {
     "name": "stdout",
     "output_type": "stream",
     "text": [
      "\r",
      "Job Status: job is queued (5)     "
     ]
    },
    {
     "name": "stdout",
     "output_type": "stream",
     "text": [
      "\r",
      "Job Status: job is queued (4)     "
     ]
    },
    {
     "name": "stdout",
     "output_type": "stream",
     "text": [
      "\r",
      "Job Status: job is queued (3)     "
     ]
    },
    {
     "name": "stdout",
     "output_type": "stream",
     "text": [
      "\r",
      "Job Status: job is queued (2)     "
     ]
    },
    {
     "name": "stdout",
     "output_type": "stream",
     "text": [
      "\r",
      "Job Status: job is queued (1)     "
     ]
    },
    {
     "name": "stdout",
     "output_type": "stream",
     "text": [
      "\r",
      "Job Status: job is actively running"
     ]
    },
    {
     "name": "stdout",
     "output_type": "stream",
     "text": [
      "\r",
      "Job Status: job has successfully run\n"
     ]
    },
    {
     "name": "stdout",
     "output_type": "stream",
     "text": [
      "\r",
      "Job Status: job is being validated"
     ]
    },
    {
     "name": "stdout",
     "output_type": "stream",
     "text": [
      "\r",
      "Job Status: job is queued (13)    "
     ]
    },
    {
     "name": "stdout",
     "output_type": "stream",
     "text": [
      "\r",
      "Job Status: job is queued (12)    "
     ]
    },
    {
     "name": "stdout",
     "output_type": "stream",
     "text": [
      "\r",
      "Job Status: job is queued (11)    "
     ]
    },
    {
     "name": "stdout",
     "output_type": "stream",
     "text": [
      "\r",
      "Job Status: job is queued (9)     "
     ]
    },
    {
     "name": "stdout",
     "output_type": "stream",
     "text": [
      "\r",
      "Job Status: job is queued (8)     "
     ]
    },
    {
     "name": "stdout",
     "output_type": "stream",
     "text": [
      "\r",
      "Job Status: job is queued (6)     "
     ]
    },
    {
     "name": "stdout",
     "output_type": "stream",
     "text": [
      "\r",
      "Job Status: job is queued (5)     "
     ]
    },
    {
     "name": "stdout",
     "output_type": "stream",
     "text": [
      "\r",
      "Job Status: job is queued (4)     "
     ]
    },
    {
     "name": "stdout",
     "output_type": "stream",
     "text": [
      "\r",
      "Job Status: job is queued (3)     "
     ]
    },
    {
     "name": "stdout",
     "output_type": "stream",
     "text": [
      "\r",
      "Job Status: job is queued (1)     "
     ]
    },
    {
     "name": "stdout",
     "output_type": "stream",
     "text": [
      "\r",
      "Job Status: job is actively running"
     ]
    },
    {
     "name": "stdout",
     "output_type": "stream",
     "text": [
      "\r",
      "Job Status: job has successfully run\n"
     ]
    },
    {
     "name": "stdout",
     "output_type": "stream",
     "text": [
      "\r",
      "Job Status: job is being validated"
     ]
    },
    {
     "name": "stdout",
     "output_type": "stream",
     "text": [
      "\r",
      "Job Status: job is queued (42)    "
     ]
    },
    {
     "name": "stdout",
     "output_type": "stream",
     "text": [
      "\r",
      "Job Status: job is queued (16)    "
     ]
    },
    {
     "name": "stdout",
     "output_type": "stream",
     "text": [
      "\r",
      "Job Status: job is queued (15)    "
     ]
    },
    {
     "name": "stdout",
     "output_type": "stream",
     "text": [
      "\r",
      "Job Status: job is queued (12)    "
     ]
    },
    {
     "name": "stdout",
     "output_type": "stream",
     "text": [
      "\r",
      "Job Status: job is queued (3)     "
     ]
    },
    {
     "name": "stdout",
     "output_type": "stream",
     "text": [
      "\r",
      "Job Status: job is queued (2)     "
     ]
    },
    {
     "name": "stdout",
     "output_type": "stream",
     "text": [
      "\r",
      "Job Status: job is queued (1)     "
     ]
    },
    {
     "name": "stdout",
     "output_type": "stream",
     "text": [
      "\r",
      "Job Status: job is actively running"
     ]
    },
    {
     "name": "stdout",
     "output_type": "stream",
     "text": [
      "\r",
      "Job Status: job has successfully run\n"
     ]
    },
    {
     "name": "stdout",
     "output_type": "stream",
     "text": [
      "\r",
      "Job Status: job is being validated"
     ]
    },
    {
     "name": "stdout",
     "output_type": "stream",
     "text": [
      "\r",
      "Job Status: job is queued (41)    "
     ]
    },
    {
     "name": "stdout",
     "output_type": "stream",
     "text": [
      "\r",
      "Job Status: job is queued (15)    "
     ]
    },
    {
     "name": "stdout",
     "output_type": "stream",
     "text": [
      "\r",
      "Job Status: job is queued (14)    "
     ]
    },
    {
     "name": "stdout",
     "output_type": "stream",
     "text": [
      "\r",
      "Job Status: job is queued (13)    "
     ]
    },
    {
     "name": "stdout",
     "output_type": "stream",
     "text": [
      "\r",
      "Job Status: job is queued (12)    "
     ]
    },
    {
     "name": "stdout",
     "output_type": "stream",
     "text": [
      "\r",
      "Job Status: job is queued (11)    "
     ]
    },
    {
     "name": "stdout",
     "output_type": "stream",
     "text": [
      "\r",
      "Job Status: job is queued (6)     "
     ]
    },
    {
     "name": "stdout",
     "output_type": "stream",
     "text": [
      "\r",
      "Job Status: job is queued (1)     "
     ]
    },
    {
     "name": "stdout",
     "output_type": "stream",
     "text": [
      "\r",
      "Job Status: job is actively running"
     ]
    },
    {
     "name": "stdout",
     "output_type": "stream",
     "text": [
      "\r",
      "Job Status: job has successfully run\n"
     ]
    },
    {
     "name": "stdout",
     "output_type": "stream",
     "text": [
      "\r",
      "Job Status: job is being validated"
     ]
    },
    {
     "name": "stdout",
     "output_type": "stream",
     "text": [
      "\r",
      "Job Status: job is queued (32)    "
     ]
    },
    {
     "name": "stdout",
     "output_type": "stream",
     "text": [
      "\r",
      "Job Status: job is queued (6)     "
     ]
    },
    {
     "name": "stdout",
     "output_type": "stream",
     "text": [
      "\r",
      "Job Status: job is queued (5)     "
     ]
    },
    {
     "name": "stdout",
     "output_type": "stream",
     "text": [
      "\r",
      "Job Status: job is queued (4)     "
     ]
    },
    {
     "name": "stdout",
     "output_type": "stream",
     "text": [
      "\r",
      "Job Status: job is queued (3)     "
     ]
    },
    {
     "name": "stdout",
     "output_type": "stream",
     "text": [
      "\r",
      "Job Status: job is queued (2)     "
     ]
    },
    {
     "name": "stdout",
     "output_type": "stream",
     "text": [
      "\r",
      "Job Status: job is queued (1)     "
     ]
    },
    {
     "name": "stdout",
     "output_type": "stream",
     "text": [
      "\r",
      "Job Status: job is actively running"
     ]
    },
    {
     "name": "stdout",
     "output_type": "stream",
     "text": [
      "\r",
      "Job Status: job has successfully run\n"
     ]
    },
    {
     "name": "stdout",
     "output_type": "stream",
     "text": [
      "\r",
      "Job Status: job is being validated"
     ]
    },
    {
     "name": "stdout",
     "output_type": "stream",
     "text": [
      "\r",
      "Job Status: job is queued (13)    "
     ]
    },
    {
     "name": "stdout",
     "output_type": "stream",
     "text": [
      "\r",
      "Job Status: job is queued (12)    "
     ]
    },
    {
     "name": "stdout",
     "output_type": "stream",
     "text": [
      "\r",
      "Job Status: job is queued (10)    "
     ]
    },
    {
     "name": "stdout",
     "output_type": "stream",
     "text": [
      "\r",
      "Job Status: job is queued (8)     "
     ]
    },
    {
     "name": "stdout",
     "output_type": "stream",
     "text": [
      "\r",
      "Job Status: job is queued (6)     "
     ]
    },
    {
     "name": "stdout",
     "output_type": "stream",
     "text": [
      "\r",
      "Job Status: job is queued (5)     "
     ]
    },
    {
     "name": "stdout",
     "output_type": "stream",
     "text": [
      "\r",
      "Job Status: job is queued (4)     "
     ]
    },
    {
     "name": "stdout",
     "output_type": "stream",
     "text": [
      "\r",
      "Job Status: job is queued (3)     "
     ]
    },
    {
     "name": "stdout",
     "output_type": "stream",
     "text": [
      "\r",
      "Job Status: job is queued (2)     "
     ]
    },
    {
     "name": "stdout",
     "output_type": "stream",
     "text": [
      "\r",
      "Job Status: job is queued (1)     "
     ]
    },
    {
     "name": "stdout",
     "output_type": "stream",
     "text": [
      "\r",
      "Job Status: job is actively running"
     ]
    },
    {
     "name": "stdout",
     "output_type": "stream",
     "text": [
      "\r",
      "Job Status: job has successfully run\n"
     ]
    },
    {
     "name": "stdout",
     "output_type": "stream",
     "text": [
      "\r",
      "Job Status: job is being validated"
     ]
    },
    {
     "name": "stdout",
     "output_type": "stream",
     "text": [
      "\r",
      "Job Status: job is queued (12)    "
     ]
    },
    {
     "name": "stdout",
     "output_type": "stream",
     "text": [
      "\r",
      "Job Status: job is queued (11)    "
     ]
    },
    {
     "name": "stdout",
     "output_type": "stream",
     "text": [
      "\r",
      "Job Status: job is queued (10)    "
     ]
    },
    {
     "name": "stdout",
     "output_type": "stream",
     "text": [
      "\r",
      "Job Status: job is queued (8)     "
     ]
    },
    {
     "name": "stdout",
     "output_type": "stream",
     "text": [
      "\r",
      "Job Status: job is queued (7)     "
     ]
    },
    {
     "name": "stdout",
     "output_type": "stream",
     "text": [
      "\r",
      "Job Status: job is queued (6)     "
     ]
    },
    {
     "name": "stdout",
     "output_type": "stream",
     "text": [
      "\r",
      "Job Status: job is queued (5)     "
     ]
    },
    {
     "name": "stdout",
     "output_type": "stream",
     "text": [
      "\r",
      "Job Status: job is queued (4)     "
     ]
    },
    {
     "name": "stdout",
     "output_type": "stream",
     "text": [
      "\r",
      "Job Status: job is queued (3)     "
     ]
    },
    {
     "name": "stdout",
     "output_type": "stream",
     "text": [
      "\r",
      "Job Status: job is queued (2)     "
     ]
    },
    {
     "name": "stdout",
     "output_type": "stream",
     "text": [
      "\r",
      "Job Status: job is queued (1)     "
     ]
    },
    {
     "name": "stdout",
     "output_type": "stream",
     "text": [
      "\r",
      "Job Status: job is actively running"
     ]
    },
    {
     "name": "stdout",
     "output_type": "stream",
     "text": [
      "\r",
      "Job Status: job has successfully run\n"
     ]
    },
    {
     "name": "stdout",
     "output_type": "stream",
     "text": [
      "\r",
      "Job Status: job is being validated"
     ]
    },
    {
     "name": "stdout",
     "output_type": "stream",
     "text": [
      "\r",
      "Job Status: job is queued (13)    "
     ]
    },
    {
     "name": "stdout",
     "output_type": "stream",
     "text": [
      "\r",
      "Job Status: job is queued (12)    "
     ]
    },
    {
     "name": "stdout",
     "output_type": "stream",
     "text": [
      "\r",
      "Job Status: job is queued (11)    "
     ]
    },
    {
     "name": "stdout",
     "output_type": "stream",
     "text": [
      "\r",
      "Job Status: job is queued (9)     "
     ]
    },
    {
     "name": "stdout",
     "output_type": "stream",
     "text": [
      "\r",
      "Job Status: job is queued (7)     "
     ]
    },
    {
     "name": "stdout",
     "output_type": "stream",
     "text": [
      "\r",
      "Job Status: job is queued (6)     "
     ]
    },
    {
     "name": "stdout",
     "output_type": "stream",
     "text": [
      "\r",
      "Job Status: job is queued (5)     "
     ]
    },
    {
     "name": "stdout",
     "output_type": "stream",
     "text": [
      "\r",
      "Job Status: job is queued (4)     "
     ]
    },
    {
     "name": "stdout",
     "output_type": "stream",
     "text": [
      "\r",
      "Job Status: job is queued (3)     "
     ]
    },
    {
     "name": "stdout",
     "output_type": "stream",
     "text": [
      "\r",
      "Job Status: job is queued (2)     "
     ]
    },
    {
     "name": "stdout",
     "output_type": "stream",
     "text": [
      "\r",
      "Job Status: job is queued (1)     "
     ]
    },
    {
     "name": "stdout",
     "output_type": "stream",
     "text": [
      "\r",
      "Job Status: job is actively running"
     ]
    },
    {
     "name": "stdout",
     "output_type": "stream",
     "text": [
      "\r",
      "Job Status: job has successfully run\n"
     ]
    },
    {
     "name": "stdout",
     "output_type": "stream",
     "text": [
      "\r",
      "Job Status: job is being validated"
     ]
    },
    {
     "name": "stdout",
     "output_type": "stream",
     "text": [
      "\r",
      "Job Status: job is queued (13)    "
     ]
    },
    {
     "name": "stdout",
     "output_type": "stream",
     "text": [
      "\r",
      "Job Status: job is queued (12)    "
     ]
    },
    {
     "name": "stdout",
     "output_type": "stream",
     "text": [
      "\r",
      "Job Status: job is queued (11)    "
     ]
    },
    {
     "name": "stdout",
     "output_type": "stream",
     "text": [
      "\r",
      "Job Status: job is queued (9)     "
     ]
    },
    {
     "name": "stdout",
     "output_type": "stream",
     "text": [
      "\r",
      "Job Status: job is queued (7)     "
     ]
    },
    {
     "name": "stdout",
     "output_type": "stream",
     "text": [
      "\r",
      "Job Status: job is queued (6)     "
     ]
    },
    {
     "name": "stdout",
     "output_type": "stream",
     "text": [
      "\r",
      "Job Status: job is queued (5)     "
     ]
    },
    {
     "name": "stdout",
     "output_type": "stream",
     "text": [
      "\r",
      "Job Status: job is queued (4)     "
     ]
    },
    {
     "name": "stdout",
     "output_type": "stream",
     "text": [
      "\r",
      "Job Status: job is queued (3)     "
     ]
    },
    {
     "name": "stdout",
     "output_type": "stream",
     "text": [
      "\r",
      "Job Status: job is queued (2)     "
     ]
    },
    {
     "name": "stdout",
     "output_type": "stream",
     "text": [
      "\r",
      "Job Status: job is queued (1)     "
     ]
    },
    {
     "name": "stdout",
     "output_type": "stream",
     "text": [
      "\r",
      "Job Status: job is actively running"
     ]
    },
    {
     "name": "stdout",
     "output_type": "stream",
     "text": [
      "\r",
      "Job Status: job has successfully run\n"
     ]
    },
    {
     "name": "stdout",
     "output_type": "stream",
     "text": [
      "\r",
      "Job Status: job is being validated"
     ]
    },
    {
     "name": "stdout",
     "output_type": "stream",
     "text": [
      "\r",
      "Job Status: job is queued (8)     "
     ]
    },
    {
     "name": "stdout",
     "output_type": "stream",
     "text": [
      "\r",
      "Job Status: job is queued (7)     "
     ]
    },
    {
     "name": "stdout",
     "output_type": "stream",
     "text": [
      "\r",
      "Job Status: job is queued (6)     "
     ]
    },
    {
     "name": "stdout",
     "output_type": "stream",
     "text": [
      "\r",
      "Job Status: job is queued (5)     "
     ]
    },
    {
     "name": "stdout",
     "output_type": "stream",
     "text": [
      "\r",
      "Job Status: job is queued (4)     "
     ]
    },
    {
     "name": "stdout",
     "output_type": "stream",
     "text": [
      "\r",
      "Job Status: job is queued (3)     "
     ]
    },
    {
     "name": "stdout",
     "output_type": "stream",
     "text": [
      "\r",
      "Job Status: job is queued (2)     "
     ]
    },
    {
     "name": "stdout",
     "output_type": "stream",
     "text": [
      "\r",
      "Job Status: job is queued (1)     "
     ]
    },
    {
     "name": "stdout",
     "output_type": "stream",
     "text": [
      "\r",
      "Job Status: job is actively running"
     ]
    },
    {
     "name": "stdout",
     "output_type": "stream",
     "text": [
      "\r",
      "Job Status: job has successfully run\n"
     ]
    },
    {
     "name": "stdout",
     "output_type": "stream",
     "text": [
      "\r",
      "Job Status: job is being validated"
     ]
    },
    {
     "name": "stdout",
     "output_type": "stream",
     "text": [
      "\r",
      "Job Status: job incurred error    \n",
      "Traceback \u001B[1;36m(most recent call last)\u001B[0m:\n",
      "  Input \u001B[0;32mIn [28]\u001B[0m in \u001B[0;35m<cell line: 14>\u001B[0m\n",
      "    real = device_run(quito,shots,i)\n",
      "  Input \u001B[0;32mIn [19]\u001B[0m in \u001B[0;35mdevice_run\u001B[0m\n",
      "    result_real = job_real.result()\n",
      "\u001B[1;36m  File \u001B[1;32m/opt/conda/lib/python3.8/site-packages/qiskit/providers/ibmq/job/ibmqjob.py:290\u001B[1;36m in \u001B[1;35mresult\u001B[1;36m\u001B[0m\n",
      "\u001B[1;33m    raise IBMQJobFailureError(\u001B[0m\n",
      "\u001B[1;31mIBMQJobFailureError\u001B[0m\u001B[1;31m:\u001B[0m 'Unable to retrieve result for job 628cdc33ed5c013baddfd1c6. Job has failed: Generic error invoking the remote services. Error code: 500.'\n",
      "\n",
      "Use %tb to get the full traceback.\n"
     ]
    },
    {
     "data": {
      "text/html": [
       "\n",
       "<style>\n",
       ".button {\n",
       "  border: none;\n",
       "  color: white;\n",
       "  padding: 4px 8px;\n",
       "  text-align: center;\n",
       "  text-decoration: none;\n",
       "  display: inline-block;\n",
       "  font-size: 12px;\n",
       "  margin: 4px 2px;\n",
       "  transition-duration: 0.2s;\n",
       "  cursor: pointer;\n",
       "}\n",
       ".iqx-button {\n",
       "  background-color: #0f62fe; \n",
       "  color: white; \n",
       "}\n",
       ".iqx-button:hover {\n",
       "  background-color: #0043ce;\n",
       "  color: white;\n",
       "}\n",
       "</style>\n",
       "<a href=\"https://stackoverflow.com/search?q=IBMQJobFailureError: Unable to retrieve result for job 628cdc33ed5c013baddfd1c6. Job has failed: Generic error invoking the remote services. Error code: 500.\" target='_blank'><button class='button iqx-button'>Search for solution online</button></a>\n"
      ],
      "text/plain": [
       "<IPython.core.display.HTML object>"
      ]
     },
     "metadata": {},
     "output_type": "display_data"
    }
   ],
   "source": [
    "shots=16384\n",
    "circuit_arr = [mermin1,mermin2,mermin3]\n",
    "state_arr =  [states_three,states_four,states_five]\n",
    "coeff_arr = [mermin_coeff1,mermin_coeff2,mermin_coeff3]\n",
    "\"\"\"\n",
    "m_real1= device_run(manila,shots,mermin1)\n",
    "m_exp1 = expectation(m_real1,shots,states_three,mermin_coeff1)\n",
    "m_real2 = device_run(manila,shots2,mermin2)\n",
    "m_exp2 = expectation(m_real2,shots2,states_four,mermin_coeff2)\n",
    "m_real3 = device_run(manila,shots2,mermin3)\n",
    "m_exp3 = expectation(m_real3,shots2,states_five,mermin_coeff3)\n",
    "\"\"\"\n",
    "real_arr = []\n",
    "for i in circuit_arr:\n",
    "    temp = []\n",
    "    for j in range(10):\n",
    "        real = device_run(quito,shots,i)\n",
    "        temp.append(real)\n",
    "    real_arr.append(temp)\n",
    "exp_arr1 = []\n",
    "for i in range(len(circuit_arr)):\n",
    "    temp = []\n",
    "    for j in (real_arr[i]):\n",
    "        exp = expectation(j,shots,state_arr[i],coeff_arr[i])\n",
    "        temp.append(exp)\n",
    "    exp_arr1.append(temp)\n",
    "print(exp_arr1)\n"
   ]
  },
  {
   "cell_type": "code",
   "execution_count": null,
   "id": "0348643e-aeb9-46b0-ae81-9cd94608a7c7",
   "metadata": {
    "papermill": {
     "duration": null,
     "end_time": null,
     "exception": null,
     "start_time": null,
     "status": "pending"
    },
    "tags": []
   },
   "outputs": [],
   "source": [
    "import numpy as np\n",
    "error_3 = np.std(exp_arr1[0], ddof=1) / np.sqrt(np.size(exp_arr1[0]))\n",
    "print(\"3-qubit Error: \",error_3)\n",
    "error_4 = np.std(exp_arr1[1], ddof=1) / np.sqrt(np.size(exp_arr1[1]))\n",
    "print(\"4-qubit Error: \",error_4)\n",
    "error_5 = np.std(exp_arr1[2], ddof=1) / np.sqrt(np.size(exp_arr1[2]))\n",
    "print(\"5-qubit Error: \",error_5)"
   ]
  },
  {
   "cell_type": "code",
   "execution_count": null,
   "id": "8a16829b-3fcd-48e0-b1fd-e540356aaae2",
   "metadata": {
    "papermill": {
     "duration": null,
     "end_time": null,
     "exception": null,
     "start_time": null,
     "status": "pending"
    },
    "tags": []
   },
   "outputs": [],
   "source": [
    "shots=16384\n",
    "\"\"\"\n",
    "a_real1= device_run(manila,shots,ardehali1)\n",
    "a_exp1 = expectation(a_real1,shots,states_three,ardehali_coeff1)\n",
    "a_real2 = device_run(manila,shots,ardehali2)\n",
    "a_exp2 = expectation(a_real2,shots,states_four,ardehali_coeff2)\n",
    "a_real3 = device_run(manila,shots,ardehali3)\n",
    "a_exp3 = expectation(a_real3,shots,states_five,ardehali_coeff3)\n",
    "\"\"\"\n",
    "circuit_arr = [ardehali1,ardehali2,ardehali3]\n",
    "state_arr =  [states_three,states_four,states_five]\n",
    "coeff_arr = [ardehali_coeff1,ardehali_coeff2,ardehali_coeff3]\n",
    "real_arr = []\n",
    "for i in circuit_arr:\n",
    "    temp = []\n",
    "    for j in range(10):\n",
    "        real = device_run(quito,shots,i)\n",
    "        temp.append(real)\n",
    "    real_arr.append(temp)\n",
    "exp_arr2 = []\n",
    "for i in range(len(circuit_arr)):\n",
    "    temp = []\n",
    "    for j in (real_arr[i]):\n",
    "        exp = expectation(j,shots,state_arr[i],coeff_arr[i])\n",
    "        temp.append(exp)\n",
    "    exp_arr2.append(temp)\n",
    "print(exp_arr2)\n"
   ]
  },
  {
   "cell_type": "code",
   "execution_count": null,
   "id": "ae195440-431f-4b3d-a805-b5e4f36ec278",
   "metadata": {
    "papermill": {
     "duration": null,
     "end_time": null,
     "exception": null,
     "start_time": null,
     "status": "pending"
    },
    "tags": []
   },
   "outputs": [],
   "source": [
    "import numpy as np\n",
    "error_3 = np.std(exp_arr2[0], ddof=1) / np.sqrt(np.size(exp_arr2[0]))\n",
    "print(\"3-qubit Error: \",error_3)\n",
    "error_4 = np.std(exp_arr2[1], ddof=1) / np.sqrt(np.size(exp_arr2[1]))\n",
    "print(\"4-qubit Error: \",error_4)\n",
    "error_5 = np.std(exp_arr2[2], ddof=1) / np.sqrt(np.size(exp_arr2[2]))\n",
    "print(\"5-qubit Error: \",error_5)"
   ]
  }
 ],
 "metadata": {
  "kernelspec": {
   "display_name": "Qiskit v0.35.0 (ipykernel)",
   "language": "python",
   "name": "python3"
  },
  "language_info": {
   "codemirror_mode": {
    "name": "ipython",
    "version": 3
   },
   "file_extension": ".py",
   "mimetype": "text/x-python",
   "name": "python",
   "nbconvert_exporter": "python",
   "pygments_lexer": "ipython3",
   "version": "3.8.13"
  },
  "papermill": {
   "default_parameters": {},
   "duration": 15755.725766,
   "end_time": "2022-05-24T13:23:15.268717",
   "environment_variables": {},
   "exception": true,
   "input_path": "/home/jovyan/mermin.ipynb",
   "output_path": "/home/jovyan/mermin-background-results.ipynb",
   "parameters": {},
   "start_time": "2022-05-24T09:00:39.542951",
   "version": "2.3.3"
  },
  "widgets": {
   "application/vnd.jupyter.widget-state+json": {
    "state": {},
    "version_major": 2,
    "version_minor": 0
   }
  }
 },
 "nbformat": 4,
 "nbformat_minor": 5
}